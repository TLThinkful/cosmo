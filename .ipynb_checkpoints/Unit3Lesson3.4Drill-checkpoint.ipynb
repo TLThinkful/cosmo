{
 "cells": [
  {
   "cell_type": "code",
   "execution_count": 1,
   "metadata": {},
   "outputs": [],
   "source": [
    "import numpy as np\n",
    "import pandas as pd\n",
    "import matplotlib.pyplot as plt\n",
    "%matplotlib inline"
   ]
  },
  {
   "cell_type": "code",
   "execution_count": 13,
   "metadata": {},
   "outputs": [
    {
     "data": {
      "image/png": "[encoded data removed]",
      "text/plain": [
       "<Figure size 432x288 with 1 Axes>"
      ]
     },
     "metadata": {},
     "output_type": "display_data"
    }
   ],
   "source": [
    "dist= np.random.normal(1, .5, 100)\n",
    "\n",
    "#Plot a histogram.\n",
    "plt.hist(dist)\n",
    "\n",
    "# Print the histogram\n",
    "plt.show()"
   ]
  },
  {
   "cell_type": "code",
   "execution_count": 14,
   "metadata": {},
   "outputs": [],
   "source": [
    "mean = np.mean(dist)\n",
    "stddev = np.std(dist)"
   ]
  },
  {
   "cell_type": "code",
   "execution_count": 16,
   "metadata": {},
   "outputs": [
    {
     "data": {
      "image/png": "[encoded data removed]",
      "text/plain": [
       "<Figure size 432x288 with 1 Axes>"
      ]
     },
     "metadata": {},
     "output_type": "display_data"
    },
    {
     "name": "stdout",
     "output_type": "stream",
     "text": [
      "The histogram reflects what I expected from a normal distribution with most of the population close to the mean and within the standard deviation + or -.\n"
     ]
    }
   ],
   "source": [
    "plt.hist(dist)\n",
    "plt.axvline(x=mean,color='blue')\n",
    "plt.axvline(x=mean+stddev, color='green')\n",
    "plt.axvline(x=mean-stddev, color='purple')\n",
    "plt.show()\n",
    "print('The histogram reflects what I expected from a normal distribution with most of the population close to the mean and within the standard deviation + or -.')"
   ]
  },
  {
   "cell_type": "code",
   "execution_count": 5,
   "metadata": {},
   "outputs": [
    {
     "data": {
      "image/png": "[encoded data removed]",
      "text/plain": [
       "<Figure size 432x288 with 1 Axes>"
      ]
     },
     "metadata": {},
     "output_type": "display_data"
    },
    {
     "name": "stdout",
     "output_type": "stream",
     "text": [
      "Don't know the significance of adding two of the distribution variables together, how is this different then previous histogram? Ask Dave approach.\n"
     ]
    }
   ],
   "source": [
    "dist1 = np.random.normal(5,.5, 100)\n",
    "dist2 = np.random.normal(10,1, 100)\n",
    "dist3 = dist1+dist2\n",
    "\n",
    "mean = np.mean(dist3)\n",
    "stddev = np.std(dist3)\n",
    "\n",
    "plt.hist(dist3)\n",
    "plt.axvline(x=mean,color='blue')\n",
    "plt.axvline(x=mean+stddev, color='green')\n",
    "plt.axvline(x=mean-stddev, color='purple')\n",
    "plt.show()\n",
    "print(\"Don't know the significance of adding two of the distribution variables together, how is this different then previous histogram? Ask Dave approach.\")"
   ]
  },
  {
   "cell_type": "code",
   "execution_count": null,
   "metadata": {},
   "outputs": [],
   "source": []
  },
  {
   "cell_type": "code",
   "execution_count": null,
   "metadata": {},
   "outputs": [],
   "source": []
  }
 ],
 "metadata": {
  "kernelspec": {
   "display_name": "Python 3",
   "language": "python",
   "name": "python3"
  },
  "language_info": {
   "codemirror_mode": {
    "name": "ipython",
    "version": 3
   },
   "file_extension": ".py",
   "mimetype": "text/x-python",
   "name": "python",
   "nbconvert_exporter": "python",
   "pygments_lexer": "ipython3",
   "version": "3.6.5"
  }
 },
 "nbformat": 4,
 "nbformat_minor": 2
}
