{
 "cells": [
  {
   "cell_type": "markdown",
   "metadata": {},
   "source": [
    "Categorize each of the following research questions as \"good\" or \"bad\", and provide alternative formulations for the bad ones. \n",
    "1. What is the 1994 rate of juvenile delinquency in the U.S.?\n",
    "good\n", rate of change over time, comparisons to other countries
    "2. What can we do to reduce juvenile delinquency in the U.S.?\n",
    "bad - Does improving education reduce juvenile delinquency in the U.S.?\n", which factors
    "3. Does education play a role in reducing juvenile delinquents' return to crime?\n",
    "good\n",
    "4. How many customers does AT&T currently serve in Washington, DC?\n",
    "bad\n", how many customers can we predit for the future
    "5. What factors lead consumers to choose AT&T over other service providers?\n",
    "good\n", what are the most important factors, certain factors that have more correlation to this model
    "6. How can AT&T attract more customers?\n",
    "bad - Will a new AT&T marketing campaign attract more customers?\n",
    "7. Why did the Challenger Shuttle explode?\n",
    "bad - What were the most significant factors that contributed to the cause of the Challenger Shuttle explosion?\n",
    "8. Which genes are associated with increased risk of breast cancer?\n",
    "good\n", which groups of genes or combination of genes may have a higher association
    "9. Is it better to read to children at night or in the morning?\n",
    "bad\n", do children's verbal and reading skills improve
    "10. How does Google’s search algorithm work?\n",
    "bad - What are the components and instructions of Google's search algorithm?" does certain variables contribute or has an effect to Google's search algorithm such as location, logged in, mobile, search history, web browser history
   ]
  }
 ],
 "metadata": {
  "kernelspec": {
   "display_name": "Python 3",
   "language": "python",
   "name": "python3"
  },
  "language_info": {
   "codemirror_mode": {
    "name": "ipython",
    "version": 3
   },
   "file_extension": ".py",
   "mimetype": "text/x-python",
   "name": "python",
   "nbconvert_exporter": "python",
   "pygments_lexer": "ipython3",
   "version": "3.6.5"
  }
 },
 "nbformat": 4,
 "nbformat_minor": 2
}
