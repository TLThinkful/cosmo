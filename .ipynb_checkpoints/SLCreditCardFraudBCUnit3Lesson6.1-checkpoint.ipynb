{
 "cells": [
  {
   "cell_type": "code",
   "execution_count": 1,
   "metadata": {},
   "outputs": [],
   "source": [
    "import pandas as pd\n",
    "import numpy as np\n",
    "import matplotlib.pyplot as plt\n",
    "import seaborn as sns\n",
    "import scipy\n",
    "from sklearn import ensemble\n",
    "from sklearn import linear_model\n",
    "from sklearn.linear_model import LogisticRegression\n",
    "from sklearn.svm import SVR\n",
    "from sklearn.svm import SVC\n",
    "from sklearn.neighbors import KNeighborsClassifier\n",
    "from sklearn.naive_bayes import BernoulliNB\n",
    "from sklearn.naive_bayes import GaussianNB\n",
    "from sklearn.naive_bayes import MultinomialNB\n",
    "from sklearn import preprocessing\n",
    "from sklearn.model_selection import cross_val_score\n",
    "%matplotlib inline"
   ]
  },
  {
   "cell_type": "code",
   "execution_count": 2,
   "metadata": {},
   "outputs": [],
   "source": [
    "fraud = pd.read_csv('creditcard.csv')"
   ]
  },
  {
   "cell_type": "code",
   "execution_count": 3,
   "metadata": {},
   "outputs": [
    {
     "data": {
      "text/plain": [
       "(284807, 31)"
      ]
     },
     "execution_count": 3,
     "metadata": {},
     "output_type": "execute_result"
    }
   ],
   "source": [
    "fraud.shape"
   ]
  },
  {
   "cell_type": "code",
   "execution_count": 4,
   "metadata": {},
   "outputs": [
    {
     "data": {
      "text/plain": [
       "Index(['Time', 'V1', 'V2', 'V3', 'V4', 'V5', 'V6', 'V7', 'V8', 'V9', 'V10',\n",
       "       'V11', 'V12', 'V13', 'V14', 'V15', 'V16', 'V17', 'V18', 'V19', 'V20',\n",
       "       'V21', 'V22', 'V23', 'V24', 'V25', 'V26', 'V27', 'V28', 'Amount',\n",
       "       'Class'],\n",
       "      dtype='object')"
      ]
     },
     "execution_count": 4,
     "metadata": {},
     "output_type": "execute_result"
    }
   ],
   "source": [
    "fraud.columns"
   ]
  },
  {
   "cell_type": "code",
   "execution_count": 6,
   "metadata": {},
   "outputs": [
    {
     "data": {
      "text/html": [
       "<div>\n",
       "<style scoped>\n",
       "    .dataframe tbody tr th:only-of-type {\n",
       "        vertical-align: middle;\n",
       "    }\n",
       "\n",
       "    .dataframe tbody tr th {\n",
       "        vertical-align: top;\n",
       "    }\n",
       "\n",
       "    .dataframe thead th {\n",
       "        text-align: right;\n",
       "    }\n",
       "</style>\n",
       "<table border=\"1\" class=\"dataframe\">\n",
       "  <thead>\n",
       "    <tr style=\"text-align: right;\">\n",
       "      <th></th>\n",
       "      <th>Time</th>\n",
       "      <th>V1</th>\n",
       "      <th>V2</th>\n",
       "      <th>V3</th>\n",
       "      <th>V4</th>\n",
       "      <th>V5</th>\n",
       "      <th>V6</th>\n",
       "      <th>V7</th>\n",
       "      <th>V8</th>\n",
       "      <th>V9</th>\n",
       "      <th>...</th>\n",
       "      <th>V21</th>\n",
       "      <th>V22</th>\n",
       "      <th>V23</th>\n",
       "      <th>V24</th>\n",
       "      <th>V25</th>\n",
       "      <th>V26</th>\n",
       "      <th>V27</th>\n",
       "      <th>V28</th>\n",
       "      <th>Amount</th>\n",
       "      <th>Class</th>\n",
       "    </tr>\n",
       "  </thead>\n",
       "  <tbody>\n",
       "    <tr>\n",
       "      <th>count</th>\n",
       "      <td>284807.000000</td>\n",
       "      <td>2.848070e+05</td>\n",
       "      <td>2.848070e+05</td>\n",
       "      <td>2.848070e+05</td>\n",
       "      <td>2.848070e+05</td>\n",
       "      <td>2.848070e+05</td>\n",
       "      <td>2.848070e+05</td>\n",
       "      <td>2.848070e+05</td>\n",
       "      <td>2.848070e+05</td>\n",
       "      <td>2.848070e+05</td>\n",
       "      <td>...</td>\n",
       "      <td>2.848070e+05</td>\n",
       "      <td>2.848070e+05</td>\n",
       "      <td>2.848070e+05</td>\n",
       "      <td>2.848070e+05</td>\n",
       "      <td>2.848070e+05</td>\n",
       "      <td>2.848070e+05</td>\n",
       "      <td>2.848070e+05</td>\n",
       "      <td>2.848070e+05</td>\n",
       "      <td>284807.000000</td>\n",
       "      <td>284807.000000</td>\n",
       "    </tr>\n",
       "    <tr>\n",
       "      <th>mean</th>\n",
       "      <td>94813.859575</td>\n",
       "      <td>1.165980e-15</td>\n",
       "      <td>3.416908e-16</td>\n",
       "      <td>-1.373150e-15</td>\n",
       "      <td>2.086869e-15</td>\n",
       "      <td>9.604066e-16</td>\n",
       "      <td>1.490107e-15</td>\n",
       "      <td>-5.556467e-16</td>\n",
       "      <td>1.177556e-16</td>\n",
       "      <td>-2.406455e-15</td>\n",
       "      <td>...</td>\n",
       "      <td>1.656562e-16</td>\n",
       "      <td>-3.444850e-16</td>\n",
       "      <td>2.578648e-16</td>\n",
       "      <td>4.471968e-15</td>\n",
       "      <td>5.340915e-16</td>\n",
       "      <td>1.687098e-15</td>\n",
       "      <td>-3.666453e-16</td>\n",
       "      <td>-1.220404e-16</td>\n",
       "      <td>88.349619</td>\n",
       "      <td>0.001727</td>\n",
       "    </tr>\n",
       "    <tr>\n",
       "      <th>std</th>\n",
       "      <td>47488.145955</td>\n",
       "      <td>1.958696e+00</td>\n",
       "      <td>1.651309e+00</td>\n",
       "      <td>1.516255e+00</td>\n",
       "      <td>1.415869e+00</td>\n",
       "      <td>1.380247e+00</td>\n",
       "      <td>1.332271e+00</td>\n",
       "      <td>1.237094e+00</td>\n",
       "      <td>1.194353e+00</td>\n",
       "      <td>1.098632e+00</td>\n",
       "      <td>...</td>\n",
       "      <td>7.345240e-01</td>\n",
       "      <td>7.257016e-01</td>\n",
       "      <td>6.244603e-01</td>\n",
       "      <td>6.056471e-01</td>\n",
       "      <td>5.212781e-01</td>\n",
       "      <td>4.822270e-01</td>\n",
       "      <td>4.036325e-01</td>\n",
       "      <td>3.300833e-01</td>\n",
       "      <td>250.120109</td>\n",
       "      <td>0.041527</td>\n",
       "    </tr>\n",
       "    <tr>\n",
       "      <th>min</th>\n",
       "      <td>0.000000</td>\n",
       "      <td>-5.640751e+01</td>\n",
       "      <td>-7.271573e+01</td>\n",
       "      <td>-4.832559e+01</td>\n",
       "      <td>-5.683171e+00</td>\n",
       "      <td>-1.137433e+02</td>\n",
       "      <td>-2.616051e+01</td>\n",
       "      <td>-4.355724e+01</td>\n",
       "      <td>-7.321672e+01</td>\n",
       "      <td>-1.343407e+01</td>\n",
       "      <td>...</td>\n",
       "      <td>-3.483038e+01</td>\n",
       "      <td>-1.093314e+01</td>\n",
       "      <td>-4.480774e+01</td>\n",
       "      <td>-2.836627e+00</td>\n",
       "      <td>-1.029540e+01</td>\n",
       "      <td>-2.604551e+00</td>\n",
       "      <td>-2.256568e+01</td>\n",
       "      <td>-1.543008e+01</td>\n",
       "      <td>0.000000</td>\n",
       "      <td>0.000000</td>\n",
       "    </tr>\n",
       "    <tr>\n",
       "      <th>25%</th>\n",
       "      <td>54201.500000</td>\n",
       "      <td>-9.203734e-01</td>\n",
       "      <td>-5.985499e-01</td>\n",
       "      <td>-8.903648e-01</td>\n",
       "      <td>-8.486401e-01</td>\n",
       "      <td>-6.915971e-01</td>\n",
       "      <td>-7.682956e-01</td>\n",
       "      <td>-5.540759e-01</td>\n",
       "      <td>-2.086297e-01</td>\n",
       "      <td>-6.430976e-01</td>\n",
       "      <td>...</td>\n",
       "      <td>-2.283949e-01</td>\n",
       "      <td>-5.423504e-01</td>\n",
       "      <td>-1.618463e-01</td>\n",
       "      <td>-3.545861e-01</td>\n",
       "      <td>-3.171451e-01</td>\n",
       "      <td>-3.269839e-01</td>\n",
       "      <td>-7.083953e-02</td>\n",
       "      <td>-5.295979e-02</td>\n",
       "      <td>5.600000</td>\n",
       "      <td>0.000000</td>\n",
       "    </tr>\n",
       "    <tr>\n",
       "      <th>50%</th>\n",
       "      <td>84692.000000</td>\n",
       "      <td>1.810880e-02</td>\n",
       "      <td>6.548556e-02</td>\n",
       "      <td>1.798463e-01</td>\n",
       "      <td>-1.984653e-02</td>\n",
       "      <td>-5.433583e-02</td>\n",
       "      <td>-2.741871e-01</td>\n",
       "      <td>4.010308e-02</td>\n",
       "      <td>2.235804e-02</td>\n",
       "      <td>-5.142873e-02</td>\n",
       "      <td>...</td>\n",
       "      <td>-2.945017e-02</td>\n",
       "      <td>6.781943e-03</td>\n",
       "      <td>-1.119293e-02</td>\n",
       "      <td>4.097606e-02</td>\n",
       "      <td>1.659350e-02</td>\n",
       "      <td>-5.213911e-02</td>\n",
       "      <td>1.342146e-03</td>\n",
       "      <td>1.124383e-02</td>\n",
       "      <td>22.000000</td>\n",
       "      <td>0.000000</td>\n",
       "    </tr>\n",
       "    <tr>\n",
       "      <th>75%</th>\n",
       "      <td>139320.500000</td>\n",
       "      <td>1.315642e+00</td>\n",
       "      <td>8.037239e-01</td>\n",
       "      <td>1.027196e+00</td>\n",
       "      <td>7.433413e-01</td>\n",
       "      <td>6.119264e-01</td>\n",
       "      <td>3.985649e-01</td>\n",
       "      <td>5.704361e-01</td>\n",
       "      <td>3.273459e-01</td>\n",
       "      <td>5.971390e-01</td>\n",
       "      <td>...</td>\n",
       "      <td>1.863772e-01</td>\n",
       "      <td>5.285536e-01</td>\n",
       "      <td>1.476421e-01</td>\n",
       "      <td>4.395266e-01</td>\n",
       "      <td>3.507156e-01</td>\n",
       "      <td>2.409522e-01</td>\n",
       "      <td>9.104512e-02</td>\n",
       "      <td>7.827995e-02</td>\n",
       "      <td>77.165000</td>\n",
       "      <td>0.000000</td>\n",
       "    </tr>\n",
       "    <tr>\n",
       "      <th>max</th>\n",
       "      <td>172792.000000</td>\n",
       "      <td>2.454930e+00</td>\n",
       "      <td>2.205773e+01</td>\n",
       "      <td>9.382558e+00</td>\n",
       "      <td>1.687534e+01</td>\n",
       "      <td>3.480167e+01</td>\n",
       "      <td>7.330163e+01</td>\n",
       "      <td>1.205895e+02</td>\n",
       "      <td>2.000721e+01</td>\n",
       "      <td>1.559499e+01</td>\n",
       "      <td>...</td>\n",
       "      <td>2.720284e+01</td>\n",
       "      <td>1.050309e+01</td>\n",
       "      <td>2.252841e+01</td>\n",
       "      <td>4.584549e+00</td>\n",
       "      <td>7.519589e+00</td>\n",
       "      <td>3.517346e+00</td>\n",
       "      <td>3.161220e+01</td>\n",
       "      <td>3.384781e+01</td>\n",
       "      <td>25691.160000</td>\n",
       "      <td>1.000000</td>\n",
       "    </tr>\n",
       "  </tbody>\n",
       "</table>\n",
       "<p>8 rows × 31 columns</p>\n",
       "</div>"
      ],
      "text/plain": [
       "                Time            V1            V2            V3            V4  \\\n",
       "count  284807.000000  2.848070e+05  2.848070e+05  2.848070e+05  2.848070e+05   \n",
       "mean    94813.859575  1.165980e-15  3.416908e-16 -1.373150e-15  2.086869e-15   \n",
       "std     47488.145955  1.958696e+00  1.651309e+00  1.516255e+00  1.415869e+00   \n",
       "min         0.000000 -5.640751e+01 -7.271573e+01 -4.832559e+01 -5.683171e+00   \n",
       "25%     54201.500000 -9.203734e-01 -5.985499e-01 -8.903648e-01 -8.486401e-01   \n",
       "50%     84692.000000  1.810880e-02  6.548556e-02  1.798463e-01 -1.984653e-02   \n",
       "75%    139320.500000  1.315642e+00  8.037239e-01  1.027196e+00  7.433413e-01   \n",
       "max    172792.000000  2.454930e+00  2.205773e+01  9.382558e+00  1.687534e+01   \n",
       "\n",
       "                 V5            V6            V7            V8            V9  \\\n",
       "count  2.848070e+05  2.848070e+05  2.848070e+05  2.848070e+05  2.848070e+05   \n",
       "mean   9.604066e-16  1.490107e-15 -5.556467e-16  1.177556e-16 -2.406455e-15   \n",
       "std    1.380247e+00  1.332271e+00  1.237094e+00  1.194353e+00  1.098632e+00   \n",
       "min   -1.137433e+02 -2.616051e+01 -4.355724e+01 -7.321672e+01 -1.343407e+01   \n",
       "25%   -6.915971e-01 -7.682956e-01 -5.540759e-01 -2.086297e-01 -6.430976e-01   \n",
       "50%   -5.433583e-02 -2.741871e-01  4.010308e-02  2.235804e-02 -5.142873e-02   \n",
       "75%    6.119264e-01  3.985649e-01  5.704361e-01  3.273459e-01  5.971390e-01   \n",
       "max    3.480167e+01  7.330163e+01  1.205895e+02  2.000721e+01  1.559499e+01   \n",
       "\n",
       "           ...                 V21           V22           V23           V24  \\\n",
       "count      ...        2.848070e+05  2.848070e+05  2.848070e+05  2.848070e+05   \n",
       "mean       ...        1.656562e-16 -3.444850e-16  2.578648e-16  4.471968e-15   \n",
       "std        ...        7.345240e-01  7.257016e-01  6.244603e-01  6.056471e-01   \n",
       "min        ...       -3.483038e+01 -1.093314e+01 -4.480774e+01 -2.836627e+00   \n",
       "25%        ...       -2.283949e-01 -5.423504e-01 -1.618463e-01 -3.545861e-01   \n",
       "50%        ...       -2.945017e-02  6.781943e-03 -1.119293e-02  4.097606e-02   \n",
       "75%        ...        1.863772e-01  5.285536e-01  1.476421e-01  4.395266e-01   \n",
       "max        ...        2.720284e+01  1.050309e+01  2.252841e+01  4.584549e+00   \n",
       "\n",
       "                V25           V26           V27           V28         Amount  \\\n",
       "count  2.848070e+05  2.848070e+05  2.848070e+05  2.848070e+05  284807.000000   \n",
       "mean   5.340915e-16  1.687098e-15 -3.666453e-16 -1.220404e-16      88.349619   \n",
       "std    5.212781e-01  4.822270e-01  4.036325e-01  3.300833e-01     250.120109   \n",
       "min   -1.029540e+01 -2.604551e+00 -2.256568e+01 -1.543008e+01       0.000000   \n",
       "25%   -3.171451e-01 -3.269839e-01 -7.083953e-02 -5.295979e-02       5.600000   \n",
       "50%    1.659350e-02 -5.213911e-02  1.342146e-03  1.124383e-02      22.000000   \n",
       "75%    3.507156e-01  2.409522e-01  9.104512e-02  7.827995e-02      77.165000   \n",
       "max    7.519589e+00  3.517346e+00  3.161220e+01  3.384781e+01   25691.160000   \n",
       "\n",
       "               Class  \n",
       "count  284807.000000  \n",
       "mean        0.001727  \n",
       "std         0.041527  \n",
       "min         0.000000  \n",
       "25%         0.000000  \n",
       "50%         0.000000  \n",
       "75%         0.000000  \n",
       "max         1.000000  \n",
       "\n",
       "[8 rows x 31 columns]"
      ]
     },
     "execution_count": 6,
     "metadata": {},
     "output_type": "execute_result"
    }
   ],
   "source": [
    "fraud.describe()"
   ]
  },
  {
   "cell_type": "code",
   "execution_count": 5,
   "metadata": {},
   "outputs": [
    {
     "name": "stdout",
     "output_type": "stream",
     "text": [
      "Time      0\n",
      "V1        0\n",
      "V2        0\n",
      "V3        0\n",
      "V4        0\n",
      "V5        0\n",
      "V6        0\n",
      "V7        0\n",
      "V8        0\n",
      "V9        0\n",
      "V10       0\n",
      "V11       0\n",
      "V12       0\n",
      "V13       0\n",
      "V14       0\n",
      "V15       0\n",
      "V16       0\n",
      "V17       0\n",
      "V18       0\n",
      "V19       0\n",
      "V20       0\n",
      "V21       0\n",
      "V22       0\n",
      "V23       0\n",
      "V24       0\n",
      "V25       0\n",
      "V26       0\n",
      "V27       0\n",
      "V28       0\n",
      "Amount    0\n",
      "Class     0\n",
      "dtype: int64\n"
     ]
    }
   ],
   "source": [
    "missing_values_count = fraud.isnull().sum()\n",
    "print(missing_values_count)"
   ]
  },
  {
   "cell_type": "code",
   "execution_count": 7,
   "metadata": {},
   "outputs": [
    {
     "data": {
      "image/png": "[encoded data removed]",
      "text/plain": [
       "<Figure size 432x288 with 1 Axes>"
      ]
     },
     "metadata": {},
     "output_type": "display_data"
    }
   ],
   "source": [
    "sns.distplot(fraud.Time)\n",
    "plt.title('Distribution of Time')\n",
    "plt.show()"
   ]
  },
  {
   "cell_type": "code",
   "execution_count": 8,
   "metadata": {
    "scrolled": true
   },
   "outputs": [
    {
     "data": {
      "image/png": "[encoded data removed]",
      "text/plain": [
       "<Figure size 432x288 with 1 Axes>"
      ]
     },
     "metadata": {},
     "output_type": "display_data"
    }
   ],
   "source": [
    "sns.boxplot(x=fraud['Amount'])\n",
    "plt.title('Distribution of Amount')\n",
    "plt.show()"
   ]
  },
  {
   "cell_type": "code",
   "execution_count": 9,
   "metadata": {},
   "outputs": [
    {
     "name": "stdout",
     "output_type": "stream",
     "text": [
      "Baseline accuracy for fraud is: 0.17%\n"
     ]
    }
   ],
   "source": [
    "fraud_total = fraud['Class'].sum()\n",
    "print('Baseline accuracy for fraud is: ' + str(round((fraud_total/fraud.shape[0])*100, 2)) + '%')"
   ]
  },
  {
   "cell_type": "code",
   "execution_count": 10,
   "metadata": {},
   "outputs": [],
   "source": [
    "#Create dataframe of only fraudulent observations\n",
    "fraud_true = fraud[fraud['Class'] == True]"
   ]
  },
  {
   "cell_type": "code",
   "execution_count": 11,
   "metadata": {},
   "outputs": [
    {
     "data": {
      "text/plain": [
       "492"
      ]
     },
     "execution_count": 11,
     "metadata": {},
     "output_type": "execute_result"
    }
   ],
   "source": [
    "#Confirm number of fraudulent observations\n",
    "len(fraud_true)"
   ]
  },
  {
   "cell_type": "code",
   "execution_count": 12,
   "metadata": {},
   "outputs": [],
   "source": [
    "#Create dataframe of only non-fraudulent, then take a sample of that\n",
    "fraud_not_true = fraud[fraud['Class'] == False]\n",
    "fraud_not_true = fraud_not_true.sample(n = 492)"
   ]
  },
  {
   "cell_type": "code",
   "execution_count": 13,
   "metadata": {},
   "outputs": [
    {
     "data": {
      "text/plain": [
       "492"
      ]
     },
     "execution_count": 13,
     "metadata": {},
     "output_type": "execute_result"
    }
   ],
   "source": [
    "#Confirm number of non-fraudulent observations\n",
    "len(fraud_not_true)"
   ]
  },
  {
   "cell_type": "code",
   "execution_count": 14,
   "metadata": {},
   "outputs": [],
   "source": [
    "#Combine our two dataframes (fraudulent and non-fraudulent) into one\n",
    "fraud_revised = fraud_not_true.append(fraud_true)"
   ]
  },
  {
   "cell_type": "code",
   "execution_count": 15,
   "metadata": {},
   "outputs": [
    {
     "data": {
      "text/html": [
       "<div>\n",
       "<style scoped>\n",
       "    .dataframe tbody tr th:only-of-type {\n",
       "        vertical-align: middle;\n",
       "    }\n",
       "\n",
       "    .dataframe tbody tr th {\n",
       "        vertical-align: top;\n",
       "    }\n",
       "\n",
       "    .dataframe thead th {\n",
       "        text-align: right;\n",
       "    }\n",
       "</style>\n",
       "<table border=\"1\" class=\"dataframe\">\n",
       "  <thead>\n",
       "    <tr style=\"text-align: right;\">\n",
       "      <th></th>\n",
       "      <th>Time</th>\n",
       "      <th>V1</th>\n",
       "      <th>V2</th>\n",
       "      <th>V3</th>\n",
       "      <th>V4</th>\n",
       "      <th>V5</th>\n",
       "      <th>V6</th>\n",
       "      <th>V7</th>\n",
       "      <th>V8</th>\n",
       "      <th>V9</th>\n",
       "      <th>...</th>\n",
       "      <th>V21</th>\n",
       "      <th>V22</th>\n",
       "      <th>V23</th>\n",
       "      <th>V24</th>\n",
       "      <th>V25</th>\n",
       "      <th>V26</th>\n",
       "      <th>V27</th>\n",
       "      <th>V28</th>\n",
       "      <th>Amount</th>\n",
       "      <th>Class</th>\n",
       "    </tr>\n",
       "  </thead>\n",
       "  <tbody>\n",
       "    <tr>\n",
       "      <th>12610</th>\n",
       "      <td>22096.0</td>\n",
       "      <td>1.263971</td>\n",
       "      <td>-0.479313</td>\n",
       "      <td>0.290994</td>\n",
       "      <td>-1.076095</td>\n",
       "      <td>-0.137046</td>\n",
       "      <td>0.989475</td>\n",
       "      <td>-0.927993</td>\n",
       "      <td>0.329562</td>\n",
       "      <td>3.092635</td>\n",
       "      <td>...</td>\n",
       "      <td>-0.200658</td>\n",
       "      <td>-0.140805</td>\n",
       "      <td>-0.219566</td>\n",
       "      <td>-1.771033</td>\n",
       "      <td>0.571236</td>\n",
       "      <td>-0.603969</td>\n",
       "      <td>0.069544</td>\n",
       "      <td>-0.002227</td>\n",
       "      <td>11.85</td>\n",
       "      <td>0</td>\n",
       "    </tr>\n",
       "    <tr>\n",
       "      <th>153867</th>\n",
       "      <td>100428.0</td>\n",
       "      <td>-0.721856</td>\n",
       "      <td>1.206053</td>\n",
       "      <td>-0.932261</td>\n",
       "      <td>-0.820036</td>\n",
       "      <td>0.927951</td>\n",
       "      <td>-1.605098</td>\n",
       "      <td>1.112491</td>\n",
       "      <td>-0.044604</td>\n",
       "      <td>0.574629</td>\n",
       "      <td>...</td>\n",
       "      <td>0.196252</td>\n",
       "      <td>0.851345</td>\n",
       "      <td>0.009843</td>\n",
       "      <td>0.058585</td>\n",
       "      <td>-0.325130</td>\n",
       "      <td>0.022479</td>\n",
       "      <td>0.130377</td>\n",
       "      <td>0.165288</td>\n",
       "      <td>7.68</td>\n",
       "      <td>0</td>\n",
       "    </tr>\n",
       "    <tr>\n",
       "      <th>233096</th>\n",
       "      <td>147437.0</td>\n",
       "      <td>-1.088006</td>\n",
       "      <td>-6.073101</td>\n",
       "      <td>-2.538410</td>\n",
       "      <td>0.737265</td>\n",
       "      <td>-1.746336</td>\n",
       "      <td>1.958939</td>\n",
       "      <td>1.015898</td>\n",
       "      <td>0.103621</td>\n",
       "      <td>-0.062345</td>\n",
       "      <td>...</td>\n",
       "      <td>0.285222</td>\n",
       "      <td>-2.068297</td>\n",
       "      <td>-0.879387</td>\n",
       "      <td>-1.673830</td>\n",
       "      <td>-1.297528</td>\n",
       "      <td>-0.803500</td>\n",
       "      <td>-0.206315</td>\n",
       "      <td>0.217041</td>\n",
       "      <td>1591.26</td>\n",
       "      <td>0</td>\n",
       "    </tr>\n",
       "    <tr>\n",
       "      <th>50203</th>\n",
       "      <td>44390.0</td>\n",
       "      <td>1.268965</td>\n",
       "      <td>-0.554917</td>\n",
       "      <td>-0.286250</td>\n",
       "      <td>-1.740540</td>\n",
       "      <td>-0.388079</td>\n",
       "      <td>-0.297219</td>\n",
       "      <td>-0.371044</td>\n",
       "      <td>0.181758</td>\n",
       "      <td>1.413322</td>\n",
       "      <td>...</td>\n",
       "      <td>-0.078461</td>\n",
       "      <td>-0.273312</td>\n",
       "      <td>-0.084509</td>\n",
       "      <td>-0.843216</td>\n",
       "      <td>0.396242</td>\n",
       "      <td>-0.021151</td>\n",
       "      <td>-0.007489</td>\n",
       "      <td>-0.010182</td>\n",
       "      <td>19.00</td>\n",
       "      <td>0</td>\n",
       "    </tr>\n",
       "    <tr>\n",
       "      <th>67248</th>\n",
       "      <td>52429.0</td>\n",
       "      <td>1.360489</td>\n",
       "      <td>-0.555708</td>\n",
       "      <td>0.839355</td>\n",
       "      <td>-0.765426</td>\n",
       "      <td>-1.226743</td>\n",
       "      <td>-0.521216</td>\n",
       "      <td>-0.904775</td>\n",
       "      <td>-0.017239</td>\n",
       "      <td>-0.907112</td>\n",
       "      <td>...</td>\n",
       "      <td>0.356369</td>\n",
       "      <td>0.988874</td>\n",
       "      <td>-0.096842</td>\n",
       "      <td>0.383431</td>\n",
       "      <td>0.447250</td>\n",
       "      <td>-0.123603</td>\n",
       "      <td>0.028202</td>\n",
       "      <td>0.012385</td>\n",
       "      <td>4.00</td>\n",
       "      <td>0</td>\n",
       "    </tr>\n",
       "  </tbody>\n",
       "</table>\n",
       "<p>5 rows × 31 columns</p>\n",
       "</div>"
      ],
      "text/plain": [
       "            Time        V1        V2        V3        V4        V5        V6  \\\n",
       "12610    22096.0  1.263971 -0.479313  0.290994 -1.076095 -0.137046  0.989475   \n",
       "153867  100428.0 -0.721856  1.206053 -0.932261 -0.820036  0.927951 -1.605098   \n",
       "233096  147437.0 -1.088006 -6.073101 -2.538410  0.737265 -1.746336  1.958939   \n",
       "50203    44390.0  1.268965 -0.554917 -0.286250 -1.740540 -0.388079 -0.297219   \n",
       "67248    52429.0  1.360489 -0.555708  0.839355 -0.765426 -1.226743 -0.521216   \n",
       "\n",
       "              V7        V8        V9  ...         V21       V22       V23  \\\n",
       "12610  -0.927993  0.329562  3.092635  ...   -0.200658 -0.140805 -0.219566   \n",
       "153867  1.112491 -0.044604  0.574629  ...    0.196252  0.851345  0.009843   \n",
       "233096  1.015898  0.103621 -0.062345  ...    0.285222 -2.068297 -0.879387   \n",
       "50203  -0.371044  0.181758  1.413322  ...   -0.078461 -0.273312 -0.084509   \n",
       "67248  -0.904775 -0.017239 -0.907112  ...    0.356369  0.988874 -0.096842   \n",
       "\n",
       "             V24       V25       V26       V27       V28   Amount  Class  \n",
       "12610  -1.771033  0.571236 -0.603969  0.069544 -0.002227    11.85      0  \n",
       "153867  0.058585 -0.325130  0.022479  0.130377  0.165288     7.68      0  \n",
       "233096 -1.673830 -1.297528 -0.803500 -0.206315  0.217041  1591.26      0  \n",
       "50203  -0.843216  0.396242 -0.021151 -0.007489 -0.010182    19.00      0  \n",
       "67248   0.383431  0.447250 -0.123603  0.028202  0.012385     4.00      0  \n",
       "\n",
       "[5 rows x 31 columns]"
      ]
     },
     "execution_count": 15,
     "metadata": {},
     "output_type": "execute_result"
    }
   ],
   "source": [
    "fraud_revised.head(5)"
   ]
  },
  {
   "cell_type": "code",
   "execution_count": 16,
   "metadata": {},
   "outputs": [],
   "source": [
    "#Set up our independent variables and outcome variable\n",
    "\n",
    "X = fraud_revised.drop(['Class'], 1)\n",
    "Y = fraud_revised.Class"
   ]
  },
  {
   "cell_type": "code",
   "execution_count": 17,
   "metadata": {},
   "outputs": [],
   "source": [
    "#Setup function to run our model with different k parameters\n",
    "\n",
    "def KNN_Model(k):\n",
    "    KNN = KNeighborsClassifier(n_neighbors=k)\n",
    "    KNN.fit(X, Y)\n",
    "    print('\\n Percentage accuracy for K Nearest Neighbors Classifier')\n",
    "    print(str(KNN.score(X, Y)*100) + '%')\n",
    "    print(cross_val_score(KNN, X, Y, cv=5))"
   ]
  },
  {
   "cell_type": "code",
   "execution_count": 18,
   "metadata": {},
   "outputs": [
    {
     "name": "stdout",
     "output_type": "stream",
     "text": [
      "\n",
      " Percentage accuracy for K Nearest Neighbors Classifier\n",
      "100.0%\n",
      "[0.36363636 0.34848485 0.39285714 0.47959184 0.38265306]\n"
     ]
    }
   ],
   "source": [
    "KNN_Model(1)"
   ]
  },
  {
   "cell_type": "code",
   "execution_count": 19,
   "metadata": {},
   "outputs": [
    {
     "name": "stdout",
     "output_type": "stream",
     "text": [
      "\n",
      " Percentage accuracy for K Nearest Neighbors Classifier\n",
      "77.23577235772358%\n",
      "[0.37373737 0.35858586 0.35714286 0.47959184 0.35714286]\n"
     ]
    }
   ],
   "source": [
    "#Run the model with K=10\n",
    "KNN_Model(5)"
   ]
  },
  {
   "cell_type": "code",
   "execution_count": 20,
   "metadata": {},
   "outputs": [
    {
     "name": "stdout",
     "output_type": "stream",
     "text": [
      "\n",
      " Percentage accuracy for K Nearest Neighbors Classifier\n",
      "62.90650406504065%\n",
      "[0.38383838 0.36363636 0.37244898 0.29591837 0.30612245]\n"
     ]
    }
   ],
   "source": [
    "KNN_Model(100)"
   ]
  },
  {
   "cell_type": "code",
   "execution_count": 21,
   "metadata": {},
   "outputs": [],
   "source": [
    "#Set up function to run our model with different trees, criterion, max features and max depth\n",
    "\n",
    "def RFC_Model(trees, criteria, num_features, depth):\n",
    "    rfc = ensemble.RandomForestClassifier(n_estimators=trees, criterion=criteria, max_features=num_features, max_depth=depth)\n",
    "    rfc.fit(X, Y)\n",
    "    print('\\n Percentage accuracy for Random Forest Classifier')\n",
    "    print(str(rfc.score(X, Y)*100) + '%')\n",
    "    print(cross_val_score(rfc, X, Y, cv=5))"
   ]
  },
  {
   "cell_type": "code",
   "execution_count": 22,
   "metadata": {},
   "outputs": [
    {
     "name": "stdout",
     "output_type": "stream",
     "text": [
      "\n",
      " Percentage accuracy for Random Forest Classifier\n",
      "95.42682926829268%\n",
      "[0.95454545 0.93939394 0.91836735 0.95408163 0.92346939]\n"
     ]
    }
   ],
   "source": [
    "#Run the model with 50 trees, criterion = 'entropy', max features = 5 and max depth = 5\n",
    "RFC_Model(50, 'entropy', 5, 5)"
   ]
  },
  {
   "cell_type": "code",
   "execution_count": 23,
   "metadata": {},
   "outputs": [
    {
     "name": "stdout",
     "output_type": "stream",
     "text": [
      "\n",
      " Percentage accuracy for Random Forest Classifier\n",
      "96.23983739837398%\n",
      "[0.95959596 0.93434343 0.91326531 0.94897959 0.92346939]\n"
     ]
    }
   ],
   "source": [
    "#Try RFC again, same parameters accept use 'gini' instead of 'entropy' for criterion\n",
    "RFC_Model(50, 'gini', 5, 5)"
   ]
  },
  {
   "cell_type": "code",
   "execution_count": 24,
   "metadata": {},
   "outputs": [],
   "source": [
    "#Set up function to run our model using lasso or ridge regularization and specifying alpha\n",
    "#parameter\n",
    "\n",
    "def Logistic_Reg_Model(regularization, alpha):\n",
    "    lr = LogisticRegression(penalty=regularization, C=alpha)\n",
    "    lr.fit(X, Y)\n",
    "    print('\\n Percentage accuracy for Logistic Regression')\n",
    "    print(str(lr.score(X, Y)*100) + '%')\n",
    "    print(cross_val_score(lr, X, Y, cv=5))"
   ]
  },
  {
   "cell_type": "code",
   "execution_count": 25,
   "metadata": {},
   "outputs": [
    {
     "name": "stdout",
     "output_type": "stream",
     "text": [
      "\n",
      " Percentage accuracy for Logistic Regression\n",
      "94.51219512195121%\n",
      "[0.92929293 0.94444444 0.91326531 0.94387755 0.8877551 ]\n"
     ]
    }
   ],
   "source": [
    "#Run generic logistic regression, setting a very high alpha to counteract default regularization ('l2)\n",
    "Logistic_Reg_Model('l2', 1e9)"
   ]
  },
  {
   "cell_type": "code",
   "execution_count": 26,
   "metadata": {},
   "outputs": [
    {
     "name": "stdout",
     "output_type": "stream",
     "text": [
      "\n",
      " Percentage accuracy for Logistic Regression\n",
      "95.83333333333334%\n",
      "[0.92424242 0.95454545 0.90306122 0.95408163 0.92346939]\n"
     ]
    }
   ],
   "source": [
    "#Run using 'l1' (lasso) penalty and default alpha\n",
    "Logistic_Reg_Model('l1', 1)"
   ]
  },
  {
   "cell_type": "code",
   "execution_count": 27,
   "metadata": {},
   "outputs": [
    {
     "name": "stdout",
     "output_type": "stream",
     "text": [
      "\n",
      " Percentage accuracy for Logistic Regression\n",
      "95.630081300813%\n",
      "[0.93434343 0.94444444 0.89795918 0.94897959 0.92346939]\n"
     ]
    }
   ],
   "source": [
    "#Run lasso again, this time with different alpha\n",
    "Logistic_Reg_Model('l1', 20)"
   ]
  },
  {
   "cell_type": "code",
   "execution_count": 28,
   "metadata": {},
   "outputs": [
    {
     "name": "stdout",
     "output_type": "stream",
     "text": [
      "\n",
      " Percentage accuracy for Logistic Regression\n",
      "94.51219512195121%\n",
      "[0.93434343 0.94444444 0.91326531 0.94387755 0.8877551 ]\n"
     ]
    }
   ],
   "source": [
    "#Run using 'l2' (ridge) penalty and default alpha\n",
    "Logistic_Reg_Model('l2', 1)"
   ]
  },
  {
   "cell_type": "code",
   "execution_count": 29,
   "metadata": {},
   "outputs": [
    {
     "name": "stdout",
     "output_type": "stream",
     "text": [
      "\n",
      " Percentage accuracy for Logistic Regression\n",
      "94.51219512195121%\n",
      "[0.92424242 0.94444444 0.91326531 0.94387755 0.8877551 ]\n"
     ]
    }
   ],
   "source": [
    "#Run ridge again, this time with different alpha\n",
    "Logistic_Reg_Model('l2', 100)"
   ]
  },
  {
   "cell_type": "code",
   "execution_count": 30,
   "metadata": {},
   "outputs": [
    {
     "name": "stdout",
     "output_type": "stream",
     "text": [
      "\n",
      " Percentage accuracy for SVM\n",
      "100.0%\n",
      "[0.5 0.5 0.5 0.5 0.5]\n"
     ]
    }
   ],
   "source": [
    "svm = SVC()\n",
    "svm.fit(X, Y)\n",
    "print('\\n Percentage accuracy for SVM')\n",
    "print(str(svm.score(X, Y)*100) + '%')\n",
    "print(cross_val_score(svm, X, Y, cv=5))"
   ]
  },
  {
   "cell_type": "code",
   "execution_count": 31,
   "metadata": {},
   "outputs": [],
   "source": [
    "#Set up function to run our model\n",
    "\n",
    "def NB_Model(model):\n",
    "\n",
    "    X = fraud_revised.drop(['Class'], 1).values\n",
    "    min_max_scaler = preprocessing.MinMaxScaler()\n",
    "    x_scaled = min_max_scaler.fit_transform(X)\n",
    "    X = pd.DataFrame(x_scaled)\n",
    "\n",
    "    if model == 'Bernoulli':\n",
    "        NB_Model = BernoulliNB()\n",
    "        NB_Model.fit(X, Y)\n",
    "        print('\\n Percentage accuracy for Bernoulli Naive Bayes')\n",
    "        print(str(NB_Model.score(X, Y)*100) + '%')\n",
    "        print(cross_val_score(NB_Model, X, Y, cv=5))\n",
    "        \n",
    "    elif model == 'Gaussian':\n",
    "        NB_Model = GaussianNB()\n",
    "        NB_Model.fit(X, Y)\n",
    "        print('\\n Percentage accuracy for Gaussian Naive Bayes')\n",
    "        print(str(NB_Model.score(X, Y)*100) + '%')\n",
    "        print(cross_val_score(NB_Model, X, Y, cv=5))\n",
    "\n",
    "    else:\n",
    "        NB_Model = MultinomialNB()\n",
    "        NB_Model.fit(X, Y)\n",
    "        print('\\n Percentage accuracy for Multinomial Naive Bayes')\n",
    "        print(str(NB_Model.score(X, Y)*100) + '%')\n",
    "        print(cross_val_score(NB_Model, X, Y, cv=5))"
   ]
  },
  {
   "cell_type": "code",
   "execution_count": 32,
   "metadata": {},
   "outputs": [
    {
     "name": "stdout",
     "output_type": "stream",
     "text": [
      "\n",
      " Percentage accuracy for Bernoulli Naive Bayes\n",
      "54.57317073170732%\n",
      "[0.51515152 0.50505051 0.53061224 0.54081633 0.53571429]\n"
     ]
    }
   ],
   "source": [
    "#First run Bernoulli\n",
    "NB_Model('Bernoulli')"
   ]
  },
  {
   "cell_type": "code",
   "execution_count": 33,
   "metadata": {},
   "outputs": [
    {
     "name": "stdout",
     "output_type": "stream",
     "text": [
      "\n",
      " Percentage accuracy for Gaussian Naive Bayes\n",
      "91.5650406504065%\n",
      "[0.94444444 0.91414141 0.8877551  0.92346939 0.8877551 ]\n"
     ]
    }
   ],
   "source": [
    "#Now run Gaussian\n",
    "NB_Model('Gaussian')"
   ]
  },
  {
   "cell_type": "code",
   "execution_count": 34,
   "metadata": {},
   "outputs": [
    {
     "name": "stdout",
     "output_type": "stream",
     "text": [
      "\n",
      " Percentage accuracy for Multinomial Naive Bayes\n",
      "88.3130081300813%\n",
      "[0.93939394 0.9040404  0.80612245 0.90816327 0.78571429]\n"
     ]
    }
   ],
   "source": [
    "#Finally, run multinomial\n",
    "NB_Model('Multinomial')"
   ]
  },
  {
   "cell_type": "code",
   "execution_count": null,
   "metadata": {},
   "outputs": [],
   "source": []
  }
 ],
 "metadata": {
  "kernelspec": {
   "display_name": "Python 3",
   "language": "python",
   "name": "python3"
  },
  "language_info": {
   "codemirror_mode": {
    "name": "ipython",
    "version": 3
   },
   "file_extension": ".py",
   "mimetype": "text/x-python",
   "name": "python",
   "nbconvert_exporter": "python",
   "pygments_lexer": "ipython3",
   "version": "3.6.5"
  }
 },
 "nbformat": 4,
 "nbformat_minor": 2
}
