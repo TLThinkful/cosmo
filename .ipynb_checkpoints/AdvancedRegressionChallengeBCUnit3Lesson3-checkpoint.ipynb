{
 "cells": [
  {
   "cell_type": "code",
   "execution_count": 1,
   "metadata": {},
   "outputs": [],
   "source": [
    "import pandas as pd\n",
    "import numpy as np\n",
    "import matplotlib.pyplot as plt\n",
    "import seaborn as sns\n",
    "from sklearn import ensemble\n",
    "from sklearn import linear_model\n",
    "from sklearn.linear_model import LogisticRegression\n",
    "from sklearn.model_selection import cross_val_score\n",
    "%matplotlib inline"
   ]
  },
  {
   "cell_type": "markdown",
   "metadata": {},
   "source": [
    "## Explore and Clean Data "
   ]
  },
  {
   "cell_type": "code",
   "execution_count": 31,
   "metadata": {},
   "outputs": [],
   "source": [
    "va_crime = pd.read_csv('va_crime_2013.csv', skiprows=4)"
   ]
  },
  {
   "cell_type": "code",
   "execution_count": 32,
   "metadata": {},
   "outputs": [
    {
     "data": {
      "text/html": [
       "<div>\n",
       "<style scoped>\n",
       "    .dataframe tbody tr th:only-of-type {\n",
       "        vertical-align: middle;\n",
       "    }\n",
       "\n",
       "    .dataframe tbody tr th {\n",
       "        vertical-align: top;\n",
       "    }\n",
       "\n",
       "    .dataframe thead th {\n",
       "        text-align: right;\n",
       "    }\n",
       "</style>\n",
       "<table border=\"1\" class=\"dataframe\">\n",
       "  <thead>\n",
       "    <tr style=\"text-align: right;\">\n",
       "      <th></th>\n",
       "      <th>City</th>\n",
       "      <th>Population</th>\n",
       "      <th>Violent_Crime</th>\n",
       "      <th>Murder</th>\n",
       "      <th>Rape</th>\n",
       "      <th>Robbery</th>\n",
       "      <th>Aggravated_Assault</th>\n",
       "      <th>Property_Crime</th>\n",
       "      <th>Burglary</th>\n",
       "      <th>Larceny_Theft</th>\n",
       "      <th>Motor_Vehicle_Theft</th>\n",
       "      <th>Arson</th>\n",
       "    </tr>\n",
       "  </thead>\n",
       "  <tbody>\n",
       "    <tr>\n",
       "      <th>0</th>\n",
       "      <td>Abingdon</td>\n",
       "      <td>8186</td>\n",
       "      <td>10</td>\n",
       "      <td>0</td>\n",
       "      <td>3</td>\n",
       "      <td>1</td>\n",
       "      <td>6</td>\n",
       "      <td>233</td>\n",
       "      <td>20</td>\n",
       "      <td>198</td>\n",
       "      <td>15</td>\n",
       "      <td>4</td>\n",
       "    </tr>\n",
       "    <tr>\n",
       "      <th>1</th>\n",
       "      <td>Alexandria</td>\n",
       "      <td>148519</td>\n",
       "      <td>258</td>\n",
       "      <td>5</td>\n",
       "      <td>21</td>\n",
       "      <td>118</td>\n",
       "      <td>114</td>\n",
       "      <td>2967</td>\n",
       "      <td>249</td>\n",
       "      <td>2427</td>\n",
       "      <td>291</td>\n",
       "      <td>13</td>\n",
       "    </tr>\n",
       "    <tr>\n",
       "      <th>2</th>\n",
       "      <td>Altavista</td>\n",
       "      <td>3486</td>\n",
       "      <td>8</td>\n",
       "      <td>0</td>\n",
       "      <td>0</td>\n",
       "      <td>2</td>\n",
       "      <td>6</td>\n",
       "      <td>56</td>\n",
       "      <td>4</td>\n",
       "      <td>52</td>\n",
       "      <td>0</td>\n",
       "      <td>0</td>\n",
       "    </tr>\n",
       "    <tr>\n",
       "      <th>3</th>\n",
       "      <td>Amherst</td>\n",
       "      <td>2223</td>\n",
       "      <td>2</td>\n",
       "      <td>0</td>\n",
       "      <td>2</td>\n",
       "      <td>0</td>\n",
       "      <td>0</td>\n",
       "      <td>27</td>\n",
       "      <td>6</td>\n",
       "      <td>19</td>\n",
       "      <td>2</td>\n",
       "      <td>0</td>\n",
       "    </tr>\n",
       "    <tr>\n",
       "      <th>4</th>\n",
       "      <td>Appalachia</td>\n",
       "      <td>1728</td>\n",
       "      <td>12</td>\n",
       "      <td>0</td>\n",
       "      <td>2</td>\n",
       "      <td>2</td>\n",
       "      <td>8</td>\n",
       "      <td>77</td>\n",
       "      <td>25</td>\n",
       "      <td>51</td>\n",
       "      <td>1</td>\n",
       "      <td>0</td>\n",
       "    </tr>\n",
       "    <tr>\n",
       "      <th>5</th>\n",
       "      <td>Ashland</td>\n",
       "      <td>7310</td>\n",
       "      <td>26</td>\n",
       "      <td>0</td>\n",
       "      <td>1</td>\n",
       "      <td>8</td>\n",
       "      <td>17</td>\n",
       "      <td>246</td>\n",
       "      <td>14</td>\n",
       "      <td>221</td>\n",
       "      <td>11</td>\n",
       "      <td>1</td>\n",
       "    </tr>\n",
       "    <tr>\n",
       "      <th>6</th>\n",
       "      <td>Bedford</td>\n",
       "      <td>5894</td>\n",
       "      <td>12</td>\n",
       "      <td>0</td>\n",
       "      <td>4</td>\n",
       "      <td>3</td>\n",
       "      <td>5</td>\n",
       "      <td>237</td>\n",
       "      <td>26</td>\n",
       "      <td>199</td>\n",
       "      <td>12</td>\n",
       "      <td>0</td>\n",
       "    </tr>\n",
       "    <tr>\n",
       "      <th>7</th>\n",
       "      <td>Berryville</td>\n",
       "      <td>4290</td>\n",
       "      <td>5</td>\n",
       "      <td>0</td>\n",
       "      <td>2</td>\n",
       "      <td>1</td>\n",
       "      <td>2</td>\n",
       "      <td>80</td>\n",
       "      <td>7</td>\n",
       "      <td>72</td>\n",
       "      <td>1</td>\n",
       "      <td>0</td>\n",
       "    </tr>\n",
       "    <tr>\n",
       "      <th>8</th>\n",
       "      <td>Big Stone Gap</td>\n",
       "      <td>5568</td>\n",
       "      <td>17</td>\n",
       "      <td>0</td>\n",
       "      <td>5</td>\n",
       "      <td>0</td>\n",
       "      <td>12</td>\n",
       "      <td>203</td>\n",
       "      <td>21</td>\n",
       "      <td>176</td>\n",
       "      <td>6</td>\n",
       "      <td>2</td>\n",
       "    </tr>\n",
       "    <tr>\n",
       "      <th>9</th>\n",
       "      <td>Blacksburg</td>\n",
       "      <td>42603</td>\n",
       "      <td>31</td>\n",
       "      <td>0</td>\n",
       "      <td>7</td>\n",
       "      <td>4</td>\n",
       "      <td>20</td>\n",
       "      <td>523</td>\n",
       "      <td>91</td>\n",
       "      <td>417</td>\n",
       "      <td>15</td>\n",
       "      <td>8</td>\n",
       "    </tr>\n",
       "  </tbody>\n",
       "</table>\n",
       "</div>"
      ],
      "text/plain": [
       "            City  Population  Violent_Crime  Murder  Rape  Robbery  \\\n",
       "0       Abingdon        8186             10       0     3        1   \n",
       "1     Alexandria      148519            258       5    21      118   \n",
       "2      Altavista        3486              8       0     0        2   \n",
       "3        Amherst        2223              2       0     2        0   \n",
       "4     Appalachia        1728             12       0     2        2   \n",
       "5        Ashland        7310             26       0     1        8   \n",
       "6        Bedford        5894             12       0     4        3   \n",
       "7     Berryville        4290              5       0     2        1   \n",
       "8  Big Stone Gap        5568             17       0     5        0   \n",
       "9     Blacksburg       42603             31       0     7        4   \n",
       "\n",
       "   Aggravated_Assault  Property_Crime  Burglary  Larceny_Theft  \\\n",
       "0                   6             233        20            198   \n",
       "1                 114            2967       249           2427   \n",
       "2                   6              56         4             52   \n",
       "3                   0              27         6             19   \n",
       "4                   8              77        25             51   \n",
       "5                  17             246        14            221   \n",
       "6                   5             237        26            199   \n",
       "7                   2              80         7             72   \n",
       "8                  12             203        21            176   \n",
       "9                  20             523        91            417   \n",
       "\n",
       "   Motor_Vehicle_Theft  Arson  \n",
       "0                   15      4  \n",
       "1                  291     13  \n",
       "2                    0      0  \n",
       "3                    2      0  \n",
       "4                    1      0  \n",
       "5                   11      1  \n",
       "6                   12      0  \n",
       "7                    1      0  \n",
       "8                    6      2  \n",
       "9                   15      8  "
      ]
     },
     "execution_count": 32,
     "metadata": {},
     "output_type": "execute_result"
    }
   ],
   "source": [
    "va_crime.head(10)"
   ]
  },
  {
   "cell_type": "code",
   "execution_count": 33,
   "metadata": {},
   "outputs": [],
   "source": [
    "#Drop empty column\n",
    "va_crime.drop(va_crime.columns[len(va_crime.columns)-1], axis=1, inplace=True)"
   ]
  },
  {
   "cell_type": "code",
   "execution_count": 34,
   "metadata": {},
   "outputs": [
    {
     "name": "stdout",
     "output_type": "stream",
     "text": [
      "City                   0\n",
      "Population             0\n",
      "Violent_Crime          0\n",
      "Murder                 0\n",
      "Rape                   0\n",
      "Robbery                0\n",
      "Aggravated_Assault     0\n",
      "Property_Crime         0\n",
      "Burglary               0\n",
      "Larceny_Theft          0\n",
      "Motor_Vehicle_Theft    0\n",
      "dtype: int64\n"
     ]
    }
   ],
   "source": [
    "#Determine missing values across dataframe\n",
    "missing_values_count = va_crime.isnull().sum()\n",
    "print(missing_values_count)"
   ]
  },
  {
   "cell_type": "code",
   "execution_count": 35,
   "metadata": {},
   "outputs": [
    {
     "data": {
      "text/plain": [
       "City                   object\n",
       "Population              int64\n",
       "Violent_Crime           int64\n",
       "Murder                  int64\n",
       "Rape                    int64\n",
       "Robbery                 int64\n",
       "Aggravated_Assault      int64\n",
       "Property_Crime          int64\n",
       "Burglary                int64\n",
       "Larceny_Theft           int64\n",
       "Motor_Vehicle_Theft     int64\n",
       "dtype: object"
      ]
     },
     "execution_count": 35,
     "metadata": {},
     "output_type": "execute_result"
    }
   ],
   "source": [
    "va_crime.dtypes"
   ]
  },
  {
   "cell_type": "code",
   "execution_count": 36,
   "metadata": {},
   "outputs": [
    {
     "data": {
      "text/plain": [
       "count    149.000000\n",
       "mean       6.919463\n",
       "std       18.423882\n",
       "min        0.000000\n",
       "25%        0.000000\n",
       "50%        1.000000\n",
       "75%        4.000000\n",
       "max      140.000000\n",
       "Name: Rape, dtype: float64"
      ]
     },
     "execution_count": 36,
     "metadata": {},
     "output_type": "execute_result"
    }
   ],
   "source": [
    "va_crime.Rape.describe()"
   ]
  },
  {
   "cell_type": "code",
   "execution_count": 37,
   "metadata": {},
   "outputs": [
    {
     "data": {
      "image/png": "[encoded data removed]",
      "text/plain": [
       "<Figure size 432x288 with 1 Axes>"
      ]
     },
     "metadata": {},
     "output_type": "display_data"
    }
   ],
   "source": [
    "#First, let's look at our outcome variable.\n",
    "sns.distplot(va_crime.Rape)\n",
    "plt.title('Distribution of Rape')\n",
    "plt.show()"
   ]
  },
  {
   "cell_type": "code",
   "execution_count": 38,
   "metadata": {},
   "outputs": [
    {
     "data": {
      "image/png": "[encoded data removed]",
      "text/plain": [
       "<Figure size 432x288 with 1 Axes>"
      ]
     },
     "metadata": {},
     "output_type": "display_data"
    }
   ],
   "source": [
    "sns.boxplot(x=va_crime[\"Rape\"])\n",
    "plt.title('Distribution of Rape')\n",
    "plt.show()"
   ]
  },
  {
   "cell_type": "markdown",
   "metadata": {},
   "source": [
    "### Distribution of Rape is incredibly skewed right, as shown by the histogram and boxplot above. Let's try to remove some of these outliers before we run our models."
   ]
  },
  {
   "cell_type": "code",
   "execution_count": 40,
   "metadata": {},
   "outputs": [
    {
     "data": {
      "text/plain": [
       "36.599999999999994"
      ]
     },
     "execution_count": 40,
     "metadata": {},
     "output_type": "execute_result"
    }
   ],
   "source": [
    "va_crime['Rape'].quantile(.95)"
   ]
  },
  {
   "cell_type": "code",
   "execution_count": 41,
   "metadata": {},
   "outputs": [],
   "source": [
    "va_crime = va_crime[va_crime['Rape'] <= 36]"
   ]
  },
  {
   "cell_type": "code",
   "execution_count": 42,
   "metadata": {},
   "outputs": [
    {
     "data": {
      "text/plain": [
       "count    141.000000\n",
       "mean       3.418440\n",
       "std        6.190033\n",
       "min        0.000000\n",
       "25%        0.000000\n",
       "50%        1.000000\n",
       "75%        3.000000\n",
       "max       36.000000\n",
       "Name: Rape, dtype: float64"
      ]
     },
     "execution_count": 42,
     "metadata": {},
     "output_type": "execute_result"
    }
   ],
   "source": [
    "va_crime['Rape'].describe()"
   ]
  },
  {
   "cell_type": "markdown",
   "metadata": {},
   "source": [
    "### Engineer additional features"
   ]
  },
  {
   "cell_type": "code",
   "execution_count": 43,
   "metadata": {},
   "outputs": [],
   "source": [
    "#Popuation_Squared\n",
    "va_crime['Population_Squared'] = va_crime['Population']**2"
   ]
  },
  {
   "cell_type": "code",
   "execution_count": 44,
   "metadata": {},
   "outputs": [],
   "source": [
    "#General Theft - Multiply Robbery, Larceny_Theft, Motor_Vehicle_Theft\n",
    "va_crime['General_Theft'] = va_crime['Robbery'] * va_crime['Larceny_Theft'] * va_crime['Motor_Vehicle_Theft']"
   ]
  },
  {
   "cell_type": "code",
   "execution_count": 45,
   "metadata": {},
   "outputs": [],
   "source": [
    "#Establish outcome variable (convert to binary)\n",
    "\n",
    "va_crime['Rape'] = np.where((va_crime['Rape'] >= 1), 1, 0)"
   ]
  },
  {
   "cell_type": "code",
   "execution_count": 46,
   "metadata": {},
   "outputs": [
    {
     "data": {
      "text/html": [
       "<div>\n",
       "<style scoped>\n",
       "    .dataframe tbody tr th:only-of-type {\n",
       "        vertical-align: middle;\n",
       "    }\n",
       "\n",
       "    .dataframe tbody tr th {\n",
       "        vertical-align: top;\n",
       "    }\n",
       "\n",
       "    .dataframe thead th {\n",
       "        text-align: right;\n",
       "    }\n",
       "</style>\n",
       "<table border=\"1\" class=\"dataframe\">\n",
       "  <thead>\n",
       "    <tr style=\"text-align: right;\">\n",
       "      <th></th>\n",
       "      <th>City</th>\n",
       "      <th>Population</th>\n",
       "      <th>Violent_Crime</th>\n",
       "      <th>Murder</th>\n",
       "      <th>Rape</th>\n",
       "      <th>Robbery</th>\n",
       "      <th>Aggravated_Assault</th>\n",
       "      <th>Property_Crime</th>\n",
       "      <th>Burglary</th>\n",
       "      <th>Larceny_Theft</th>\n",
       "      <th>Motor_Vehicle_Theft</th>\n",
       "      <th>Population_Squared</th>\n",
       "      <th>General_Theft</th>\n",
       "    </tr>\n",
       "  </thead>\n",
       "  <tbody>\n",
       "    <tr>\n",
       "      <th>0</th>\n",
       "      <td>Abingdon</td>\n",
       "      <td>8186</td>\n",
       "      <td>10</td>\n",
       "      <td>0</td>\n",
       "      <td>1</td>\n",
       "      <td>1</td>\n",
       "      <td>6</td>\n",
       "      <td>233</td>\n",
       "      <td>20</td>\n",
       "      <td>198</td>\n",
       "      <td>15</td>\n",
       "      <td>67010596</td>\n",
       "      <td>2970</td>\n",
       "    </tr>\n",
       "    <tr>\n",
       "      <th>1</th>\n",
       "      <td>Alexandria</td>\n",
       "      <td>148519</td>\n",
       "      <td>258</td>\n",
       "      <td>5</td>\n",
       "      <td>1</td>\n",
       "      <td>118</td>\n",
       "      <td>114</td>\n",
       "      <td>2967</td>\n",
       "      <td>249</td>\n",
       "      <td>2427</td>\n",
       "      <td>291</td>\n",
       "      <td>22057893361</td>\n",
       "      <td>83338326</td>\n",
       "    </tr>\n",
       "    <tr>\n",
       "      <th>2</th>\n",
       "      <td>Altavista</td>\n",
       "      <td>3486</td>\n",
       "      <td>8</td>\n",
       "      <td>0</td>\n",
       "      <td>0</td>\n",
       "      <td>2</td>\n",
       "      <td>6</td>\n",
       "      <td>56</td>\n",
       "      <td>4</td>\n",
       "      <td>52</td>\n",
       "      <td>0</td>\n",
       "      <td>12152196</td>\n",
       "      <td>0</td>\n",
       "    </tr>\n",
       "    <tr>\n",
       "      <th>3</th>\n",
       "      <td>Amherst</td>\n",
       "      <td>2223</td>\n",
       "      <td>2</td>\n",
       "      <td>0</td>\n",
       "      <td>1</td>\n",
       "      <td>0</td>\n",
       "      <td>0</td>\n",
       "      <td>27</td>\n",
       "      <td>6</td>\n",
       "      <td>19</td>\n",
       "      <td>2</td>\n",
       "      <td>4941729</td>\n",
       "      <td>0</td>\n",
       "    </tr>\n",
       "    <tr>\n",
       "      <th>4</th>\n",
       "      <td>Appalachia</td>\n",
       "      <td>1728</td>\n",
       "      <td>12</td>\n",
       "      <td>0</td>\n",
       "      <td>1</td>\n",
       "      <td>2</td>\n",
       "      <td>8</td>\n",
       "      <td>77</td>\n",
       "      <td>25</td>\n",
       "      <td>51</td>\n",
       "      <td>1</td>\n",
       "      <td>2985984</td>\n",
       "      <td>102</td>\n",
       "    </tr>\n",
       "  </tbody>\n",
       "</table>\n",
       "</div>"
      ],
      "text/plain": [
       "         City  Population  Violent_Crime  Murder  Rape  Robbery  \\\n",
       "0    Abingdon        8186             10       0     1        1   \n",
       "1  Alexandria      148519            258       5     1      118   \n",
       "2   Altavista        3486              8       0     0        2   \n",
       "3     Amherst        2223              2       0     1        0   \n",
       "4  Appalachia        1728             12       0     1        2   \n",
       "\n",
       "   Aggravated_Assault  Property_Crime  Burglary  Larceny_Theft  \\\n",
       "0                   6             233        20            198   \n",
       "1                 114            2967       249           2427   \n",
       "2                   6              56         4             52   \n",
       "3                   0              27         6             19   \n",
       "4                   8              77        25             51   \n",
       "\n",
       "   Motor_Vehicle_Theft  Population_Squared  General_Theft  \n",
       "0                   15            67010596           2970  \n",
       "1                  291         22057893361       83338326  \n",
       "2                    0            12152196              0  \n",
       "3                    2             4941729              0  \n",
       "4                    1             2985984            102  "
      ]
     },
     "execution_count": 46,
     "metadata": {},
     "output_type": "execute_result"
    }
   ],
   "source": [
    "#Let's take a look at our new and improved dataframe\n",
    "\n",
    "va_crime.head(5)"
   ]
  },
  {
   "cell_type": "code",
   "execution_count": 47,
   "metadata": {},
   "outputs": [
    {
     "name": "stdout",
     "output_type": "stream",
     "text": [
      "Baseline accuracy for Rape is: 56.03%\n"
     ]
    }
   ],
   "source": [
    "rape_total = va_crime['Rape'].sum()\n",
    "print('Baseline accuracy for Rape is: ' + str(round((rape_total/va_crime.shape[0])*100, 2)) + '%')"
   ]
  },
  {
   "cell_type": "markdown",
   "metadata": {},
   "source": [
    "### Let's start building our models - Goal is to achieve higher accuracy than the baseline of approximately 56%\n",
    "## Regular Logistic Regression Model\n"
   ]
  },
  {
   "cell_type": "code",
   "execution_count": 48,
   "metadata": {},
   "outputs": [],
   "source": [
    "#Create dataframe slice for features\n",
    "va_crime_features = va_crime.iloc[:,1:len(va_crime.columns)]"
   ]
  },
  {
   "cell_type": "code",
   "execution_count": 49,
   "metadata": {},
   "outputs": [],
   "source": [
    "#Drop rape from features dataframe\n",
    "va_crime_features.drop('Rape', axis=1, inplace=True)"
   ]
  },
  {
   "cell_type": "code",
   "execution_count": 50,
   "metadata": {},
   "outputs": [
    {
     "name": "stdout",
     "output_type": "stream",
     "text": [
      "Coefficients\n",
      "[[1.49622204e-12 1.58093279e-14 6.14939657e-17 2.84857386e-15\n",
      "  8.12627570e-15 1.20674221e-13 1.34317417e-14 1.03196733e-13\n",
      "  4.04574705e-15 1.55780445e-08 1.13325637e-11]]\n",
      "[-9.5653136e-16]\n",
      "\n",
      " Accuracy\n",
      "Rape    0   1\n",
      "row_0        \n",
      "1      62  79\n",
      "\n",
      " Percentage accuracy\n",
      "56.02836879432624%\n"
     ]
    }
   ],
   "source": [
    "# Declare a logistic regression classifier\n",
    "lr = LogisticRegression()\n",
    "Y = va_crime['Rape']\n",
    "X = va_crime_features\n",
    "\n",
    "# Fit the model.\n",
    "fit = lr.fit(X, Y)\n",
    "\n",
    "# Display.\n",
    "print('Coefficients')\n",
    "print(fit.coef_)\n",
    "print(fit.intercept_)\n",
    "pred_y_sklearn = lr.predict(X)\n",
    "\n",
    "print('\\n Accuracy')\n",
    "print(pd.crosstab(pred_y_sklearn, Y))\n",
    "\n",
    "print('\\n Percentage accuracy')\n",
    "print(str(lr.score(X, Y)*100) + '%')"
   ]
  },
  {
   "cell_type": "code",
   "execution_count": 51,
   "metadata": {},
   "outputs": [
    {
     "data": {
      "text/plain": [
       "array([0.55172414, 0.55172414, 0.57142857, 0.57142857, 0.55555556])"
      ]
     },
     "metadata": {},
     "output_type": "display_data"
    }
   ],
   "source": [
    "#Cross-Validation\n",
    "\n",
    "display(cross_val_score(lr, va_crime_features, va_crime['Rape'], cv=5))"
   ]
  },
  {
   "cell_type": "markdown",
   "metadata": {},
   "source": [
    "### For our test data on the other hand, we see a lower success rate, shown through the cross-validation above. We also see overfitting, which may be taken care of by the lasso and ridge regression below.\n",
    "\n",
    "## Lasso Logistic Regression Model"
   ]
  },
  {
   "cell_type": "code",
   "execution_count": 52,
   "metadata": {},
   "outputs": [
    {
     "name": "stdout",
     "output_type": "stream",
     "text": [
      "Coefficients\n",
      "[[-1.36311079e-04  1.97235885e+00  0.00000000e+00 -1.11076849e+00\n",
      "  -1.65471062e+00  3.51445083e-03  5.64202645e-03 -1.21756055e-02\n",
      "   1.03122775e-01 -4.33983131e-09 -7.47424823e-07]]\n",
      "[-2.27848143]\n",
      "\n",
      " Accuracy\n",
      "Rape    0   1\n",
      "row_0        \n",
      "0      60   6\n",
      "1       2  73\n",
      "\n",
      " Percentage accuracy\n",
      "94.32624113475178%\n"
     ]
    }
   ],
   "source": [
    "# Declare a logistic regression classifier, using penalty 'l1' to indicate lasso\n",
    "lr_lasso = LogisticRegression(penalty='l1')\n",
    "Y = va_crime['Rape']\n",
    "X = va_crime_features\n",
    "\n",
    "# Fit the model.\n",
    "fit = lr_lasso.fit(X, Y)\n",
    "\n",
    "# Display.\n",
    "print('Coefficients')\n",
    "print(fit.coef_)\n",
    "print(fit.intercept_)\n",
    "pred_y_sklearn_lasso = lr_lasso.predict(X)\n",
    "\n",
    "print('\\n Accuracy')\n",
    "print(pd.crosstab(pred_y_sklearn_lasso, Y))\n",
    "\n",
    "print('\\n Percentage accuracy')\n",
    "print(str(lr_lasso.score(X, Y)*100) + '%')"
   ]
  },
  {
   "cell_type": "code",
   "execution_count": 54,
   "metadata": {},
   "outputs": [
    {
     "data": {
      "text/plain": [
       "array([0.93103448, 0.79310345, 0.89285714, 0.96428571, 0.92592593])"
      ]
     },
     "metadata": {},
     "output_type": "display_data"
    }
   ],
   "source": [
    "# Cross-Validation\n",
    "\n",
    "display(cross_val_score(lr_lasso, va_crime_features, va_crime['Rape'], cv=5))"
   ]
  },
  {
   "cell_type": "markdown",
   "metadata": {},
   "source": [
    "### During cross-validation, we see slight fluctuation for our lasso logistic regression model. However, this is far more consistent than the logistic regression above.\n",
    "\n",
    "## Ridge Logistic Regression Model"
   ]
  },
  {
   "cell_type": "code",
   "execution_count": 55,
   "metadata": {},
   "outputs": [
    {
     "name": "stdout",
     "output_type": "stream",
     "text": [
      "Coefficients\n",
      "[[1.49622204e-12 1.58093279e-14 6.14939657e-17 2.84857386e-15\n",
      "  8.12627570e-15 1.20674221e-13 1.34317417e-14 1.03196733e-13\n",
      "  4.04574705e-15 1.55780445e-08 1.13325637e-11]]\n",
      "[-9.5653136e-16]\n",
      "\n",
      " Accuracy\n",
      "Rape    0   1\n",
      "row_0        \n",
      "1      62  79\n",
      "\n",
      " Percentage accuracy\n",
      "56.02836879432624%\n"
     ]
    }
   ],
   "source": [
    "# Declare a logistic regression classifier, using penalty 'l2' to indicate ridge\n",
    "lr_ridge = LogisticRegression(penalty='l2')\n",
    "Y = va_crime['Rape']\n",
    "X = va_crime_features\n",
    "\n",
    "# Fit the model.\n",
    "fit = lr_ridge.fit(X, Y)\n",
    "\n",
    "# Display.\n",
    "print('Coefficients')\n",
    "print(fit.coef_)\n",
    "print(fit.intercept_)\n",
    "pred_y_sklearn_ridge = lr_ridge.predict(X)\n",
    "\n",
    "print('\\n Accuracy')\n",
    "print(pd.crosstab(pred_y_sklearn_ridge, Y))\n",
    "\n",
    "print('\\n Percentage accuracy')\n",
    "print(str(lr_ridge.score(X, Y)*100) + '%')"
   ]
  },
  {
   "cell_type": "code",
   "execution_count": 56,
   "metadata": {},
   "outputs": [
    {
     "data": {
      "text/plain": [
       "array([0.55172414, 0.55172414, 0.57142857, 0.57142857, 0.55555556])"
      ]
     },
     "metadata": {},
     "output_type": "display_data"
    }
   ],
   "source": [
    "#Cross-Validation\n",
    "\n",
    "display(cross_val_score(lr_ridge, va_crime_features, va_crime['Rape'], cv=5))"
   ]
  },
  {
   "cell_type": "markdown",
   "metadata": {},
   "source": [
    "### Similar success rate as our logistic regression model above, but there is indication of overfitting when we test against our folds.\n",
    "\n",
    "## Now that we've run several versions of the model, let's try using recursive feature selection on our original logistic regression model and try to improve based off those results"
   ]
  },
  {
   "cell_type": "code",
   "execution_count": 58,
   "metadata": {},
   "outputs": [],
   "source": [
    "# Pass logistic regression model to the RFE constructor\n",
    "from sklearn.feature_selection import RFE\n",
    "\n",
    "selector = RFE(lr)\n",
    "selector = selector.fit(va_crime_features, va_crime['Rape'])"
   ]
  },
  {
   "cell_type": "code",
   "execution_count": 59,
   "metadata": {},
   "outputs": [
    {
     "name": "stdout",
     "output_type": "stream",
     "text": [
      "[1 2 7 6 4 1 3 1 5 1 1]\n"
     ]
    }
   ],
   "source": [
    "print(selector.ranking_)"
   ]
  },
  {
   "cell_type": "code",
   "execution_count": 60,
   "metadata": {},
   "outputs": [
    {
     "data": {
      "text/html": [
       "<div>\n",
       "<style scoped>\n",
       "    .dataframe tbody tr th:only-of-type {\n",
       "        vertical-align: middle;\n",
       "    }\n",
       "\n",
       "    .dataframe tbody tr th {\n",
       "        vertical-align: top;\n",
       "    }\n",
       "\n",
       "    .dataframe thead th {\n",
       "        text-align: right;\n",
       "    }\n",
       "</style>\n",
       "<table border=\"1\" class=\"dataframe\">\n",
       "  <thead>\n",
       "    <tr style=\"text-align: right;\">\n",
       "      <th></th>\n",
       "      <th>Features</th>\n",
       "      <th>Ranking</th>\n",
       "    </tr>\n",
       "  </thead>\n",
       "  <tbody>\n",
       "    <tr>\n",
       "      <th>0</th>\n",
       "      <td>Population</td>\n",
       "      <td>1</td>\n",
       "    </tr>\n",
       "    <tr>\n",
       "      <th>5</th>\n",
       "      <td>Property_Crime</td>\n",
       "      <td>1</td>\n",
       "    </tr>\n",
       "    <tr>\n",
       "      <th>7</th>\n",
       "      <td>Larceny_Theft</td>\n",
       "      <td>1</td>\n",
       "    </tr>\n",
       "    <tr>\n",
       "      <th>9</th>\n",
       "      <td>Population_Squared</td>\n",
       "      <td>1</td>\n",
       "    </tr>\n",
       "    <tr>\n",
       "      <th>10</th>\n",
       "      <td>General_Theft</td>\n",
       "      <td>1</td>\n",
       "    </tr>\n",
       "    <tr>\n",
       "      <th>1</th>\n",
       "      <td>Violent_Crime</td>\n",
       "      <td>2</td>\n",
       "    </tr>\n",
       "    <tr>\n",
       "      <th>6</th>\n",
       "      <td>Burglary</td>\n",
       "      <td>3</td>\n",
       "    </tr>\n",
       "    <tr>\n",
       "      <th>4</th>\n",
       "      <td>Aggravated_Assault</td>\n",
       "      <td>4</td>\n",
       "    </tr>\n",
       "    <tr>\n",
       "      <th>8</th>\n",
       "      <td>Motor_Vehicle_Theft</td>\n",
       "      <td>5</td>\n",
       "    </tr>\n",
       "    <tr>\n",
       "      <th>3</th>\n",
       "      <td>Robbery</td>\n",
       "      <td>6</td>\n",
       "    </tr>\n",
       "    <tr>\n",
       "      <th>2</th>\n",
       "      <td>Murder</td>\n",
       "      <td>7</td>\n",
       "    </tr>\n",
       "  </tbody>\n",
       "</table>\n",
       "</div>"
      ],
      "text/plain": [
       "               Features  Ranking\n",
       "0            Population        1\n",
       "5        Property_Crime        1\n",
       "7         Larceny_Theft        1\n",
       "9    Population_Squared        1\n",
       "10        General_Theft        1\n",
       "1         Violent_Crime        2\n",
       "6              Burglary        3\n",
       "4    Aggravated_Assault        4\n",
       "8   Motor_Vehicle_Theft        5\n",
       "3               Robbery        6\n",
       "2                Murder        7"
      ]
     },
     "execution_count": 60,
     "metadata": {},
     "output_type": "execute_result"
    }
   ],
   "source": [
    "#Now turn into a dataframe so you can sort by rank\n",
    "\n",
    "rankings = pd.DataFrame({'Features': va_crime_features.columns, 'Ranking' : selector.ranking_})\n",
    "rankings.sort_values('Ranking')"
   ]
  },
  {
   "cell_type": "markdown",
   "metadata": {},
   "source": [
    "### Next Steps: Based on this information, let's remove some of these features (greater than ranking of 3 or higher) and run our models again."
   ]
  },
  {
   "cell_type": "code",
   "execution_count": 61,
   "metadata": {},
   "outputs": [],
   "source": [
    "#Redo our feature set\n",
    "va_crime_features_revised = va_crime_features.drop(['Larceny_Theft','Property_Crime', 'Burglary', 'Population'], 1)"
   ]
  },
  {
   "cell_type": "markdown",
   "metadata": {},
   "source": [
    "Regular Logistic Regression Model"
   ]
  },
  {
   "cell_type": "code",
   "execution_count": 62,
   "metadata": {},
   "outputs": [
    {
     "name": "stdout",
     "output_type": "stream",
     "text": [
      "Coefficients\n",
      "[[1.58093229e-14 6.14939522e-17 2.84857299e-15 8.12627322e-15\n",
      "  4.04574591e-15 1.55780445e-08 1.13325619e-11]]\n",
      "[-9.56530948e-16]\n",
      "\n",
      " Accuracy\n",
      "Rape    0   1\n",
      "row_0        \n",
      "1      62  79\n",
      "\n",
      " Percentage accuracy\n",
      "56.02836879432624%\n"
     ]
    }
   ],
   "source": [
    "lr2 = LogisticRegression()\n",
    "Y = va_crime['Rape']\n",
    "X = va_crime_features_revised\n",
    "\n",
    "# Fit the model.\n",
    "fit = lr2.fit(X, Y)\n",
    "\n",
    "# Display.\n",
    "print('Coefficients')\n",
    "print(fit.coef_)\n",
    "print(fit.intercept_)\n",
    "pred_y_sklearn2 = lr2.predict(X)\n",
    "\n",
    "print('\\n Accuracy')\n",
    "print(pd.crosstab(pred_y_sklearn2, Y))\n",
    "\n",
    "print('\\n Percentage accuracy')\n",
    "print(str(lr2.score(X, Y)*100) + '%')"
   ]
  },
  {
   "cell_type": "code",
   "execution_count": 67,
   "metadata": {},
   "outputs": [
    {
     "data": {
      "text/plain": [
       "array([0.55172414, 0.55172414, 0.57142857, 0.57142857, 0.55555556])"
      ]
     },
     "metadata": {},
     "output_type": "display_data"
    }
   ],
   "source": [
    "#Cross-Validation for revised logistic\n",
    "\n",
    "display(cross_val_score(lr2, va_crime_features_revised, va_crime['Rape'], cv=5))"
   ]
  },
  {
   "cell_type": "markdown",
   "metadata": {},
   "source": [
    "### Lasso Logistic Regression Model"
   ]
  },
  {
   "cell_type": "code",
   "execution_count": 68,
   "metadata": {
    "scrolled": true
   },
   "outputs": [
    {
     "name": "stdout",
     "output_type": "stream",
     "text": [
      "Coefficients\n",
      "[[ 3.03889047e+00  0.00000000e+00 -2.21514598e+00 -2.89105055e+00\n",
      "   0.00000000e+00 -1.10627051e-08  7.75245503e-07]]\n",
      "[-2.82283086]\n",
      "\n",
      " Accuracy\n",
      "Rape    0   1\n",
      "row_0        \n",
      "0      61   0\n",
      "1       1  79\n",
      "\n",
      " Percentage accuracy\n",
      "99.29078014184397%\n"
     ]
    }
   ],
   "source": [
    "lr_lasso2 = LogisticRegression(penalty='l1')\n",
    "Y = va_crime['Rape']\n",
    "X = va_crime_features_revised\n",
    "\n",
    "# Fit the model.\n",
    "fit = lr_lasso2.fit(X, Y)\n",
    "\n",
    "# Display.\n",
    "print('Coefficients')\n",
    "print(fit.coef_)\n",
    "print(fit.intercept_)\n",
    "pred_y_sklearn_lasso2 = lr_lasso2.predict(X)\n",
    "\n",
    "print('\\n Accuracy')\n",
    "print(pd.crosstab(pred_y_sklearn_lasso2, Y))\n",
    "\n",
    "print('\\n Percentage accuracy')\n",
    "print(str(lr_lasso2.score(X, Y)*100) + '%')"
   ]
  },
  {
   "cell_type": "code",
   "execution_count": 69,
   "metadata": {},
   "outputs": [
    {
     "data": {
      "text/plain": [
       "array([0.86206897, 0.79310345, 0.92857143, 0.96428571, 1.        ])"
      ]
     },
     "metadata": {},
     "output_type": "display_data"
    }
   ],
   "source": [
    "#Cross-Validation for revised lasso\n",
    "\n",
    "display(cross_val_score(lr_lasso2, va_crime_features_revised, va_crime['Rape'], cv=5))"
   ]
  },
  {
   "cell_type": "markdown",
   "metadata": {},
   "source": [
    "### Ridge Logistic Regression Model"
   ]
  },
  {
   "cell_type": "code",
   "execution_count": 70,
   "metadata": {},
   "outputs": [
    {
     "name": "stdout",
     "output_type": "stream",
     "text": [
      "Coefficients\n",
      "[[1.58093229e-14 6.14939522e-17 2.84857299e-15 8.12627322e-15\n",
      "  4.04574591e-15 1.55780445e-08 1.13325619e-11]]\n",
      "[-9.56530948e-16]\n",
      "\n",
      " Accuracy\n",
      "Rape    0   1\n",
      "row_0        \n",
      "1      62  79\n",
      "\n",
      " Percentage accuracy\n",
      "56.02836879432624%\n"
     ]
    }
   ],
   "source": [
    "# Declare a logistic regression classifier, using penalty 'l2' to indicate ridge\n",
    "lr_ridge2 = LogisticRegression(penalty='l2')\n",
    "Y = va_crime['Rape']\n",
    "X = va_crime_features_revised\n",
    "\n",
    "# Fit the model.\n",
    "fit = lr_ridge2.fit(X, Y)\n",
    "\n",
    "# Display.\n",
    "print('Coefficients')\n",
    "print(fit.coef_)\n",
    "print(fit.intercept_)\n",
    "pred_y_sklearn_ridge2 = lr_ridge2.predict(X)\n",
    "\n",
    "print('\\n Accuracy')\n",
    "print(pd.crosstab(pred_y_sklearn_ridge2, Y))\n",
    "\n",
    "print('\\n Percentage accuracy')\n",
    "print(str(lr_ridge2.score(X, Y)*100) + '%')"
   ]
  },
  {
   "cell_type": "code",
   "execution_count": 71,
   "metadata": {},
   "outputs": [
    {
     "data": {
      "text/plain": [
       "array([0.55172414, 0.55172414, 0.57142857, 0.57142857, 0.55555556])"
      ]
     },
     "metadata": {},
     "output_type": "display_data"
    }
   ],
   "source": [
    "#Cross-Validation for revised ridge\n",
    "\n",
    "display(cross_val_score(lr_ridge2, va_crime_features_revised, va_crime['Rape'], cv=5))"
   ]
  },
  {
   "cell_type": "markdown",
   "metadata": {},
   "source": [
    "### Evaluation of All Three Models\n",
    "The first time through I used all features on all 3 models. They performed at the following success rates:\n",
    "\n",
    "Logistic - 95.03%\n",
    "Lasso - 97.87%\n",
    "Ridge - 95.03%\n",
    "The second time through, I redid the models based on recursive feature selection findings. These were the results the second time:\n",
    "\n",
    "Logistic - 98.58%\n",
    "Lasso - 99.29%\n",
    "Ridge - 98.58%\n",
    "That being said, most successful model was the revised lasso logistic regression model I created. I am comfortable enough with the cross-validation results to confirm that this model is trustworthy. I am interested to learn why the logistic and ridge model versions performed at the same level for both original and revised feature sets."
   ]
  },
  {
   "cell_type": "code",
   "execution_count": null,
   "metadata": {},
   "outputs": [],
   "source": []
  }
 ],
 "metadata": {
  "kernelspec": {
   "display_name": "Python 3",
   "language": "python",
   "name": "python3"
  },
  "language_info": {
   "codemirror_mode": {
    "name": "ipython",
    "version": 3
   },
   "file_extension": ".py",
   "mimetype": "text/x-python",
   "name": "python",
   "nbconvert_exporter": "python",
   "pygments_lexer": "ipython3",
   "version": "3.6.5"
  }
 },
 "nbformat": 4,
 "nbformat_minor": 2
}
