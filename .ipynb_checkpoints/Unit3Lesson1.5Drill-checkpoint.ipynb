{
 "cells": [
  {
   "cell_type": "code",
   "execution_count": null,
   "metadata": {},
   "outputs": [],
   "source": []
  },
  {
   "cell_type": "code",
   "execution_count": 11,
   "metadata": {},
   "outputs": [
    {
     "name": "stdout",
     "output_type": "stream",
     "text": [
      "Brady Bunch Kids Age Stats...\n",
      "Mean:  9.857142857142858\n",
      "Median:  10.0\n",
      "Variance:  6.408163265306122\n",
      "Standard Deviation: 2.531435020952764\n",
      "Standard Error: 1.0334540197243194\n",
      "Mode is 8\n"
     ]
    }
   ],
   "source": [
    "# Exercise 1\n",
    "\n",
    "import numpy as np\n",
    "KidsAges1 = [14,12,11,10,8,6,8]\n",
    "\n",
    "def KidsAgesStats(KidsAges1):\n",
    "    print(\"Mean: \",np.mean(KidsAges1))\n",
    "    print(\"Median: \",np.median(KidsAges1))\n",
    "    print(\"Variance: \",np.var(KidsAges1))\n",
    "    print(\"Standard Deviation:\",np.std(KidsAges1))\n",
    "    print(\"Standard Error:\",np.std(KidsAges1)/np.sqrt(len(KidsAges1)-1))\n",
    "\n",
    "print(\"Brady Bunch Kids Age Stats...\")\n",
    "\n",
    "KidsAgesStats(KidsAges1)\n",
    "\n",
    "print(\"Mode is 8\")"
   ]
  },
  {
   "cell_type": "code",
   "execution_count": 9,
   "metadata": {},
   "outputs": [],
   "source": [
    "# Exercise 2 ?? Ask Dave how to approach this question: \n",
    "# Using these estimates, if you had to choose only one estimate \n",
    "# of central tendency and one estimate of variance to describe the data, \n",
    "# which would you pick and why?\n",
    "\n"
   ]
  },
  {
   "cell_type": "code",
   "execution_count": 12,
   "metadata": {},
   "outputs": [
    {
     "name": "stdout",
     "output_type": "stream",
     "text": [
      "Brady Bunch Revised Kids Age Stats...\n",
      "Mean:  10.0\n",
      "Median:  10.0\n",
      "Variance:  5.428571428571429\n",
      "Standard Deviation: 2.32992949004287\n",
      "Standard Error: 0.951189731211342\n",
      "Mode is 8\n"
     ]
    }
   ],
   "source": [
    "# Exercise 3\n",
    "KidsAges2 = [14,12,11,10,8,7,8]\n",
    "\n",
    "print(\"Brady Bunch Revised Kids Age Stats...\")\n",
    "\n",
    "KidsAgesStats(KidsAges2)\n",
    "\n",
    "print(\"Mode is 8\")"
   ]
  },
  {
   "cell_type": "code",
   "execution_count": 5,
   "metadata": {},
   "outputs": [],
   "source": [
    "# Median and Mode have not changed, the rest have slightly changed"
   ]
  },
  {
   "cell_type": "code",
   "execution_count": 13,
   "metadata": {},
   "outputs": [
    {
     "name": "stdout",
     "output_type": "stream",
     "text": [
      "Brady Bunch Revised v2 Kids Age Stats...\n",
      "Mean:  9.0\n",
      "Median:  10.0\n",
      "Variance:  15.428571428571429\n",
      "Standard Deviation: 3.927922024247863\n",
      "Standard Error: 1.6035674514745466\n",
      "There is no Mode\n"
     ]
    }
   ],
   "source": [
    "# Exercise 4\n",
    "KidsAges3 = [14,12,11,10,8,7,1]\n",
    "\n",
    "print(\"Brady Bunch Revised v2 Kids Age Stats...\")\n",
    "\n",
    "KidsAgesStats(KidsAges3)\n",
    "\n",
    "print(\"There is no Mode\")"
   ]
  },
  {
   "cell_type": "code",
   "execution_count": null,
   "metadata": {},
   "outputs": [],
   "source": [
    "# ?? Ask Dave how to approach this question: Does this change your choice of central tendency or variance estimation methods?"
   ]
  }
 ],
 "metadata": {
  "kernelspec": {
   "display_name": "Python 3",
   "language": "python",
   "name": "python3"
  },
  "language_info": {
   "codemirror_mode": {
    "name": "ipython",
    "version": 3
   },
   "file_extension": ".py",
   "mimetype": "text/x-python",
   "name": "python",
   "nbconvert_exporter": "python",
   "pygments_lexer": "ipython3",
   "version": "3.6.5"
  }
 },
 "nbformat": 4,
 "nbformat_minor": 2
}
