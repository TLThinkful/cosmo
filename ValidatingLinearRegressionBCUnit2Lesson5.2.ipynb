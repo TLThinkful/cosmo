{
 "cells": [
  {
   "cell_type": "code",
   "execution_count": 1,
   "metadata": {},
   "outputs": [],
   "source": [
    "import math\n",
    "import warnings\n",
    "\n",
    "from IPython.display import display\n",
    "from matplotlib import pyplot as plt\n",
    "import numpy as np\n",
    "import pandas as pd\n",
    "import seaborn as sns\n",
    "from sklearn import linear_model\n",
    "import statsmodels.formula.api as smf\n",
    "from statsmodels.sandbox.regression.predstd import wls_prediction_std\n",
    "\n",
    "# Display preferences.\n",
    "%matplotlib inline\n",
    "pd.options.display.float_format = '{:.3f}'.format\n",
    "\n",
    "# Suppress annoying harmless error.\n",
    "warnings.filterwarnings(\n",
    "    action=\"ignore\",\n",
    "    module=\"scipy\",\n",
    "    message=\"^internal gelsd\")"
   ]
  },
  {
   "cell_type": "code",
   "execution_count": 8,
   "metadata": {},
   "outputs": [],
   "source": [
    "#Read the data in\n",
    "nyc_crime_raw = pd.read_csv('NYC_Crime_2014.csv', header=4)"
   ]
  },
  {
   "cell_type": "code",
   "execution_count": 9,
   "metadata": {},
   "outputs": [
    {
     "data": {
      "text/html": [
       "<div>\n",
       "<style scoped>\n",
       "    .dataframe tbody tr th:only-of-type {\n",
       "        vertical-align: middle;\n",
       "    }\n",
       "\n",
       "    .dataframe tbody tr th {\n",
       "        vertical-align: top;\n",
       "    }\n",
       "\n",
       "    .dataframe thead th {\n",
       "        text-align: right;\n",
       "    }\n",
       "</style>\n",
       "<table border=\"1\" class=\"dataframe\">\n",
       "  <thead>\n",
       "    <tr style=\"text-align: right;\">\n",
       "      <th></th>\n",
       "      <th>City</th>\n",
       "      <th>Population</th>\n",
       "      <th>Violent\r",
       "crime</th>\n",
       "      <th>Murder and\r",
       "nonnegligent\r",
       "manslaughter</th>\n",
       "      <th>Rape\r",
       "(revised\r",
       "definition)1</th>\n",
       "      <th>Rape\r",
       "(legacy\r",
       "definition)2</th>\n",
       "      <th>Robbery</th>\n",
       "      <th>Aggravated\r",
       "assault</th>\n",
       "      <th>Property\r",
       "crime</th>\n",
       "      <th>Burglary</th>\n",
       "      <th>Larceny-\r",
       "theft</th>\n",
       "      <th>Motor\r",
       "vehicle\r",
       "theft</th>\n",
       "      <th>Arson3</th>\n",
       "      <th>Unnamed: 13</th>\n",
       "    </tr>\n",
       "  </thead>\n",
       "  <tbody>\n",
       "    <tr>\n",
       "      <th>0</th>\n",
       "      <td>Adams Village</td>\n",
       "      <td>1,851</td>\n",
       "      <td>0</td>\n",
       "      <td>0.000</td>\n",
       "      <td>NaN</td>\n",
       "      <td>0.000</td>\n",
       "      <td>0</td>\n",
       "      <td>0</td>\n",
       "      <td>11</td>\n",
       "      <td>1</td>\n",
       "      <td>10</td>\n",
       "      <td>0</td>\n",
       "      <td>0.000</td>\n",
       "      <td>nan</td>\n",
       "    </tr>\n",
       "    <tr>\n",
       "      <th>1</th>\n",
       "      <td>Addison Town and Village</td>\n",
       "      <td>2,568</td>\n",
       "      <td>2</td>\n",
       "      <td>0.000</td>\n",
       "      <td>NaN</td>\n",
       "      <td>0.000</td>\n",
       "      <td>1</td>\n",
       "      <td>1</td>\n",
       "      <td>49</td>\n",
       "      <td>1</td>\n",
       "      <td>47</td>\n",
       "      <td>1</td>\n",
       "      <td>0.000</td>\n",
       "      <td>nan</td>\n",
       "    </tr>\n",
       "    <tr>\n",
       "      <th>2</th>\n",
       "      <td>Afton Village4</td>\n",
       "      <td>820</td>\n",
       "      <td>0</td>\n",
       "      <td>0.000</td>\n",
       "      <td>0</td>\n",
       "      <td>nan</td>\n",
       "      <td>0</td>\n",
       "      <td>0</td>\n",
       "      <td>1</td>\n",
       "      <td>0</td>\n",
       "      <td>1</td>\n",
       "      <td>0</td>\n",
       "      <td>0.000</td>\n",
       "      <td>nan</td>\n",
       "    </tr>\n",
       "    <tr>\n",
       "      <th>3</th>\n",
       "      <td>Akron Village</td>\n",
       "      <td>2,842</td>\n",
       "      <td>1</td>\n",
       "      <td>0.000</td>\n",
       "      <td>NaN</td>\n",
       "      <td>0.000</td>\n",
       "      <td>0</td>\n",
       "      <td>1</td>\n",
       "      <td>17</td>\n",
       "      <td>0</td>\n",
       "      <td>17</td>\n",
       "      <td>0</td>\n",
       "      <td>0.000</td>\n",
       "      <td>nan</td>\n",
       "    </tr>\n",
       "    <tr>\n",
       "      <th>4</th>\n",
       "      <td>Albany4</td>\n",
       "      <td>98,595</td>\n",
       "      <td>802</td>\n",
       "      <td>8.000</td>\n",
       "      <td>54</td>\n",
       "      <td>nan</td>\n",
       "      <td>237</td>\n",
       "      <td>503</td>\n",
       "      <td>3,888</td>\n",
       "      <td>683</td>\n",
       "      <td>3,083</td>\n",
       "      <td>122</td>\n",
       "      <td>12.000</td>\n",
       "      <td>nan</td>\n",
       "    </tr>\n",
       "    <tr>\n",
       "      <th>5</th>\n",
       "      <td>Albion Village4</td>\n",
       "      <td>5,872</td>\n",
       "      <td>26</td>\n",
       "      <td>0.000</td>\n",
       "      <td>3</td>\n",
       "      <td>nan</td>\n",
       "      <td>2</td>\n",
       "      <td>21</td>\n",
       "      <td>204</td>\n",
       "      <td>41</td>\n",
       "      <td>159</td>\n",
       "      <td>4</td>\n",
       "      <td>0.000</td>\n",
       "      <td>nan</td>\n",
       "    </tr>\n",
       "    <tr>\n",
       "      <th>6</th>\n",
       "      <td>Alexandria Bay Village4</td>\n",
       "      <td>1,107</td>\n",
       "      <td>0</td>\n",
       "      <td>0.000</td>\n",
       "      <td>0</td>\n",
       "      <td>nan</td>\n",
       "      <td>0</td>\n",
       "      <td>0</td>\n",
       "      <td>7</td>\n",
       "      <td>2</td>\n",
       "      <td>5</td>\n",
       "      <td>0</td>\n",
       "      <td>0.000</td>\n",
       "      <td>nan</td>\n",
       "    </tr>\n",
       "    <tr>\n",
       "      <th>7</th>\n",
       "      <td>Alfred Village4</td>\n",
       "      <td>4,032</td>\n",
       "      <td>11</td>\n",
       "      <td>1.000</td>\n",
       "      <td>1</td>\n",
       "      <td>nan</td>\n",
       "      <td>0</td>\n",
       "      <td>9</td>\n",
       "      <td>30</td>\n",
       "      <td>6</td>\n",
       "      <td>24</td>\n",
       "      <td>0</td>\n",
       "      <td>0.000</td>\n",
       "      <td>nan</td>\n",
       "    </tr>\n",
       "    <tr>\n",
       "      <th>8</th>\n",
       "      <td>Altamont Village4</td>\n",
       "      <td>1,723</td>\n",
       "      <td>1</td>\n",
       "      <td>0.000</td>\n",
       "      <td>0</td>\n",
       "      <td>nan</td>\n",
       "      <td>0</td>\n",
       "      <td>1</td>\n",
       "      <td>2</td>\n",
       "      <td>2</td>\n",
       "      <td>0</td>\n",
       "      <td>0</td>\n",
       "      <td>0.000</td>\n",
       "      <td>nan</td>\n",
       "    </tr>\n",
       "    <tr>\n",
       "      <th>9</th>\n",
       "      <td>Amherst Town4</td>\n",
       "      <td>118,860</td>\n",
       "      <td>128</td>\n",
       "      <td>1.000</td>\n",
       "      <td>16</td>\n",
       "      <td>nan</td>\n",
       "      <td>43</td>\n",
       "      <td>68</td>\n",
       "      <td>2,066</td>\n",
       "      <td>176</td>\n",
       "      <td>1,846</td>\n",
       "      <td>44</td>\n",
       "      <td>2.000</td>\n",
       "      <td>nan</td>\n",
       "    </tr>\n",
       "  </tbody>\n",
       "</table>\n",
       "</div>"
      ],
      "text/plain": [
       "                       City Population Violent\\rcrime  \\\n",
       "0             Adams Village      1,851              0   \n",
       "1  Addison Town and Village      2,568              2   \n",
       "2            Afton Village4        820              0   \n",
       "3             Akron Village      2,842              1   \n",
       "4                   Albany4     98,595            802   \n",
       "5           Albion Village4      5,872             26   \n",
       "6   Alexandria Bay Village4      1,107              0   \n",
       "7           Alfred Village4      4,032             11   \n",
       "8         Altamont Village4      1,723              1   \n",
       "9             Amherst Town4    118,860            128   \n",
       "\n",
       "   Murder and\\rnonnegligent\\rmanslaughter Rape\\r(revised\\rdefinition)1  \\\n",
       "0                                   0.000                          NaN   \n",
       "1                                   0.000                          NaN   \n",
       "2                                   0.000                            0   \n",
       "3                                   0.000                          NaN   \n",
       "4                                   8.000                           54   \n",
       "5                                   0.000                            3   \n",
       "6                                   0.000                            0   \n",
       "7                                   1.000                            1   \n",
       "8                                   0.000                            0   \n",
       "9                                   1.000                           16   \n",
       "\n",
       "   Rape\\r(legacy\\rdefinition)2 Robbery Aggravated\\rassault Property\\rcrime  \\\n",
       "0                        0.000       0                   0              11   \n",
       "1                        0.000       1                   1              49   \n",
       "2                          nan       0                   0               1   \n",
       "3                        0.000       0                   1              17   \n",
       "4                          nan     237                 503           3,888   \n",
       "5                          nan       2                  21             204   \n",
       "6                          nan       0                   0               7   \n",
       "7                          nan       0                   9              30   \n",
       "8                          nan       0                   1               2   \n",
       "9                          nan      43                  68           2,066   \n",
       "\n",
       "  Burglary Larceny-\\rtheft Motor\\rvehicle\\rtheft  Arson3  Unnamed: 13  \n",
       "0        1              10                     0   0.000          nan  \n",
       "1        1              47                     1   0.000          nan  \n",
       "2        0               1                     0   0.000          nan  \n",
       "3        0              17                     0   0.000          nan  \n",
       "4      683           3,083                   122  12.000          nan  \n",
       "5       41             159                     4   0.000          nan  \n",
       "6        2               5                     0   0.000          nan  \n",
       "7        6              24                     0   0.000          nan  \n",
       "8        2               0                     0   0.000          nan  \n",
       "9      176           1,846                    44   2.000          nan  "
      ]
     },
     "execution_count": 9,
     "metadata": {},
     "output_type": "execute_result"
    }
   ],
   "source": [
    "#Take a quick glance at the data\n",
    "nyc_crime_raw.head(10)"
   ]
  },
  {
   "cell_type": "code",
   "execution_count": 10,
   "metadata": {},
   "outputs": [],
   "source": [
    "#Remove superfluous column\n",
    "nyc_crime_raw.drop(columns=['Unnamed: 13'], inplace=True)"
   ]
  },
  {
   "cell_type": "code",
   "execution_count": 11,
   "metadata": {},
   "outputs": [
    {
     "data": {
      "text/plain": [
       "(376, 13)"
      ]
     },
     "execution_count": 11,
     "metadata": {},
     "output_type": "execute_result"
    }
   ],
   "source": [
    "nyc_crime_raw.shape"
   ]
  },
  {
   "cell_type": "code",
   "execution_count": 13,
   "metadata": {},
   "outputs": [
    {
     "data": {
      "text/html": [
       "<div>\n",
       "<style scoped>\n",
       "    .dataframe tbody tr th:only-of-type {\n",
       "        vertical-align: middle;\n",
       "    }\n",
       "\n",
       "    .dataframe tbody tr th {\n",
       "        vertical-align: top;\n",
       "    }\n",
       "\n",
       "    .dataframe thead th {\n",
       "        text-align: right;\n",
       "    }\n",
       "</style>\n",
       "<table border=\"1\" class=\"dataframe\">\n",
       "  <thead>\n",
       "    <tr style=\"text-align: right;\">\n",
       "      <th></th>\n",
       "      <th>violent_crime</th>\n",
       "      <th>rape2</th>\n",
       "      <th>arson</th>\n",
       "    </tr>\n",
       "  </thead>\n",
       "  <tbody>\n",
       "    <tr>\n",
       "      <th>count</th>\n",
       "      <td>369.000</td>\n",
       "      <td>142.000</td>\n",
       "      <td>365.000</td>\n",
       "    </tr>\n",
       "    <tr>\n",
       "      <th>mean</th>\n",
       "      <td>1.453</td>\n",
       "      <td>0.007</td>\n",
       "      <td>1.425</td>\n",
       "    </tr>\n",
       "    <tr>\n",
       "      <th>std</th>\n",
       "      <td>17.694</td>\n",
       "      <td>0.084</td>\n",
       "      <td>7.995</td>\n",
       "    </tr>\n",
       "    <tr>\n",
       "      <th>min</th>\n",
       "      <td>0.000</td>\n",
       "      <td>0.000</td>\n",
       "      <td>0.000</td>\n",
       "    </tr>\n",
       "    <tr>\n",
       "      <th>25%</th>\n",
       "      <td>0.000</td>\n",
       "      <td>0.000</td>\n",
       "      <td>0.000</td>\n",
       "    </tr>\n",
       "    <tr>\n",
       "      <th>50%</th>\n",
       "      <td>0.000</td>\n",
       "      <td>0.000</td>\n",
       "      <td>0.000</td>\n",
       "    </tr>\n",
       "    <tr>\n",
       "      <th>75%</th>\n",
       "      <td>0.000</td>\n",
       "      <td>0.000</td>\n",
       "      <td>1.000</td>\n",
       "    </tr>\n",
       "    <tr>\n",
       "      <th>max</th>\n",
       "      <td>333.000</td>\n",
       "      <td>1.000</td>\n",
       "      <td>135.000</td>\n",
       "    </tr>\n",
       "  </tbody>\n",
       "</table>\n",
       "</div>"
      ],
      "text/plain": [
       "       violent_crime   rape2   arson\n",
       "count        369.000 142.000 365.000\n",
       "mean           1.453   0.007   1.425\n",
       "std           17.694   0.084   7.995\n",
       "min            0.000   0.000   0.000\n",
       "25%            0.000   0.000   0.000\n",
       "50%            0.000   0.000   0.000\n",
       "75%            0.000   0.000   1.000\n",
       "max          333.000   1.000 135.000"
      ]
     },
     "execution_count": 13,
     "metadata": {},
     "output_type": "execute_result"
    }
   ],
   "source": [
    "nyc_crime_raw.columns = [\n",
    "            'city', 'population', 'murder', \n",
    "            'violent_crime', 'rape1', \n",
    "            'rape2', 'robbery', 'aggravated_assault',\n",
    "            'property_crime', 'burglary', 'larceny', 'auto_theft', 'arson'\n",
    "        ]\n",
    "\n",
    "# set raw\n",
    "nyc_crime_raw.describe()"
   ]
  },
  {
   "cell_type": "code",
   "execution_count": 14,
   "metadata": {},
   "outputs": [
    {
     "name": "stdout",
     "output_type": "stream",
     "text": [
      "city                    1\n",
      "population              7\n",
      "murder                  7\n",
      "violent_crime           7\n",
      "rape1                 149\n",
      "rape2                 234\n",
      "robbery                 7\n",
      "aggravated_assault      7\n",
      "property_crime          8\n",
      "burglary                7\n",
      "larceny                 8\n",
      "auto_theft              7\n",
      "arson                  11\n",
      "dtype: int64\n"
     ]
    }
   ],
   "source": [
    "#Now that we know we have 376 observations across 12 columns, let's Find NaN's by column\n",
    "\n",
    "missing_values_count = nyc_crime_raw.isnull().sum()\n",
    "print(missing_values_count)"
   ]
  },
  {
   "cell_type": "code",
   "execution_count": 16,
   "metadata": {},
   "outputs": [],
   "source": [
    "nyc_crime_raw = nyc_crime_raw.dropna(subset=['population', 'robbery', 'burglary', 'property_crime'])"
   ]
  },
  {
   "cell_type": "code",
   "execution_count": 17,
   "metadata": {},
   "outputs": [
    {
     "name": "stderr",
     "output_type": "stream",
     "text": [
      "/usr/local/lib/python3.6/site-packages/ipykernel_launcher.py:1: SettingWithCopyWarning: \n",
      "A value is trying to be set on a copy of a slice from a DataFrame.\n",
      "Try using .loc[row_indexer,col_indexer] = value instead\n",
      "\n",
      "See the caveats in the documentation: http://pandas.pydata.org/pandas-docs/stable/indexing.html#indexing-view-versus-copy\n",
      "  \"\"\"Entry point for launching an IPython kernel.\n"
     ]
    }
   ],
   "source": [
    "nyc_crime_raw['population'] = nyc_crime_raw['population'].apply(lambda x: str(x).replace(',', ''))"
   ]
  },
  {
   "cell_type": "code",
   "execution_count": 18,
   "metadata": {},
   "outputs": [
    {
     "name": "stderr",
     "output_type": "stream",
     "text": [
      "/usr/local/lib/python3.6/site-packages/ipykernel_launcher.py:1: SettingWithCopyWarning: \n",
      "A value is trying to be set on a copy of a slice from a DataFrame.\n",
      "Try using .loc[row_indexer,col_indexer] = value instead\n",
      "\n",
      "See the caveats in the documentation: http://pandas.pydata.org/pandas-docs/stable/indexing.html#indexing-view-versus-copy\n",
      "  \"\"\"Entry point for launching an IPython kernel.\n"
     ]
    }
   ],
   "source": [
    "nyc_crime_raw['robbery'] = nyc_crime_raw['robbery'].apply(lambda x: str(x).replace(',', ''))\n"
   ]
  },
  {
   "cell_type": "code",
   "execution_count": 19,
   "metadata": {},
   "outputs": [
    {
     "name": "stderr",
     "output_type": "stream",
     "text": [
      "/usr/local/lib/python3.6/site-packages/ipykernel_launcher.py:1: SettingWithCopyWarning: \n",
      "A value is trying to be set on a copy of a slice from a DataFrame.\n",
      "Try using .loc[row_indexer,col_indexer] = value instead\n",
      "\n",
      "See the caveats in the documentation: http://pandas.pydata.org/pandas-docs/stable/indexing.html#indexing-view-versus-copy\n",
      "  \"\"\"Entry point for launching an IPython kernel.\n"
     ]
    }
   ],
   "source": [
    "nyc_crime_raw['burglary'] = nyc_crime_raw['burglary'].apply(lambda x: str(x).replace(',', ''))"
   ]
  },
  {
   "cell_type": "code",
   "execution_count": 20,
   "metadata": {},
   "outputs": [
    {
     "name": "stderr",
     "output_type": "stream",
     "text": [
      "/usr/local/lib/python3.6/site-packages/ipykernel_launcher.py:1: SettingWithCopyWarning: \n",
      "A value is trying to be set on a copy of a slice from a DataFrame.\n",
      "Try using .loc[row_indexer,col_indexer] = value instead\n",
      "\n",
      "See the caveats in the documentation: http://pandas.pydata.org/pandas-docs/stable/indexing.html#indexing-view-versus-copy\n",
      "  \"\"\"Entry point for launching an IPython kernel.\n"
     ]
    }
   ],
   "source": [
    "nyc_crime_raw['property_crime'] = nyc_crime_raw['property_crime'].apply(lambda x: str(x).replace(',', ''))"
   ]
  },
  {
   "cell_type": "code",
   "execution_count": 21,
   "metadata": {},
   "outputs": [
    {
     "name": "stderr",
     "output_type": "stream",
     "text": [
      "/usr/local/lib/python3.6/site-packages/ipykernel_launcher.py:1: SettingWithCopyWarning: \n",
      "A value is trying to be set on a copy of a slice from a DataFrame.\n",
      "Try using .loc[row_indexer,col_indexer] = value instead\n",
      "\n",
      "See the caveats in the documentation: http://pandas.pydata.org/pandas-docs/stable/indexing.html#indexing-view-versus-copy\n",
      "  \"\"\"Entry point for launching an IPython kernel.\n"
     ]
    }
   ],
   "source": [
    "nyc_crime_raw['larceny'] = nyc_crime_raw['larceny'].apply(lambda x: str(x).replace(',', ''))\n"
   ]
  },
  {
   "cell_type": "code",
   "execution_count": 22,
   "metadata": {},
   "outputs": [
    {
     "name": "stderr",
     "output_type": "stream",
     "text": [
      "/usr/local/lib/python3.6/site-packages/ipykernel_launcher.py:1: SettingWithCopyWarning: \n",
      "A value is trying to be set on a copy of a slice from a DataFrame.\n",
      "Try using .loc[row_indexer,col_indexer] = value instead\n",
      "\n",
      "See the caveats in the documentation: http://pandas.pydata.org/pandas-docs/stable/indexing.html#indexing-view-versus-copy\n",
      "  \"\"\"Entry point for launching an IPython kernel.\n",
      "/usr/local/lib/python3.6/site-packages/ipykernel_launcher.py:2: SettingWithCopyWarning: \n",
      "A value is trying to be set on a copy of a slice from a DataFrame.\n",
      "Try using .loc[row_indexer,col_indexer] = value instead\n",
      "\n",
      "See the caveats in the documentation: http://pandas.pydata.org/pandas-docs/stable/indexing.html#indexing-view-versus-copy\n",
      "  \n",
      "/usr/local/lib/python3.6/site-packages/ipykernel_launcher.py:3: SettingWithCopyWarning: \n",
      "A value is trying to be set on a copy of a slice from a DataFrame.\n",
      "Try using .loc[row_indexer,col_indexer] = value instead\n",
      "\n",
      "See the caveats in the documentation: http://pandas.pydata.org/pandas-docs/stable/indexing.html#indexing-view-versus-copy\n",
      "  This is separate from the ipykernel package so we can avoid doing imports until\n",
      "/usr/local/lib/python3.6/site-packages/ipykernel_launcher.py:4: SettingWithCopyWarning: \n",
      "A value is trying to be set on a copy of a slice from a DataFrame.\n",
      "Try using .loc[row_indexer,col_indexer] = value instead\n",
      "\n",
      "See the caveats in the documentation: http://pandas.pydata.org/pandas-docs/stable/indexing.html#indexing-view-versus-copy\n",
      "  after removing the cwd from sys.path.\n",
      "/usr/local/lib/python3.6/site-packages/ipykernel_launcher.py:5: SettingWithCopyWarning: \n",
      "A value is trying to be set on a copy of a slice from a DataFrame.\n",
      "Try using .loc[row_indexer,col_indexer] = value instead\n",
      "\n",
      "See the caveats in the documentation: http://pandas.pydata.org/pandas-docs/stable/indexing.html#indexing-view-versus-copy\n",
      "  \"\"\"\n"
     ]
    }
   ],
   "source": [
    "nyc_crime_raw['population'] = nyc_crime_raw['population'].astype(int)\n",
    "nyc_crime_raw['robbery'] = nyc_crime_raw['robbery'].astype(int)\n",
    "nyc_crime_raw['burglary'] = nyc_crime_raw['burglary'].astype(int)\n",
    "nyc_crime_raw['property_crime'] = nyc_crime_raw['property_crime'].astype(int)\n",
    "nyc_crime_raw['larceny'] = nyc_crime_raw['larceny'].astype(int)\n",
    "\n"
   ]
  },
  {
   "cell_type": "code",
   "execution_count": 23,
   "metadata": {},
   "outputs": [
    {
     "name": "stdout",
     "output_type": "stream",
     "text": [
      "count      368.000\n",
      "mean       698.361\n",
      "std       7123.614\n",
      "min          0.000\n",
      "25%         25.000\n",
      "50%         76.000\n",
      "75%        271.500\n",
      "max     135747.000\n",
      "Name: property_crime, dtype: float64\n",
      "count       368.000\n",
      "mean      37888.399\n",
      "std      441757.416\n",
      "min          79.000\n",
      "25%        2628.250\n",
      "50%        6564.500\n",
      "75%       15534.750\n",
      "max     8473938.000\n",
      "Name: population, dtype: float64\n",
      "count     368.000\n",
      "mean       60.823\n",
      "std       867.655\n",
      "min         0.000\n",
      "25%         0.000\n",
      "50%         1.000\n",
      "75%         4.000\n",
      "max     16581.000\n",
      "Name: robbery, dtype: float64\n",
      "count     368.000\n",
      "mean      101.160\n",
      "std       856.253\n",
      "min         0.000\n",
      "25%         4.000\n",
      "50%        12.500\n",
      "75%        39.000\n",
      "max     15916.000\n",
      "Name: burglary, dtype: float64\n",
      "count      368.000\n",
      "mean       562.791\n",
      "std       5869.850\n",
      "min          0.000\n",
      "25%         20.000\n",
      "50%         60.500\n",
      "75%        228.500\n",
      "max     112107.000\n",
      "Name: larceny, dtype: float64\n"
     ]
    }
   ],
   "source": [
    "print(nyc_crime_raw['property_crime'].describe())\n",
    "print(nyc_crime_raw['population'].describe())\n",
    "print(nyc_crime_raw['robbery'].describe())\n",
    "print(nyc_crime_raw['burglary'].describe())\n",
    "print(nyc_crime_raw['larceny'].describe())"
   ]
  },
  {
   "cell_type": "code",
   "execution_count": 24,
   "metadata": {},
   "outputs": [
    {
     "data": {
      "text/plain": [
       "44738.79999999999"
      ]
     },
     "execution_count": 24,
     "metadata": {},
     "output_type": "execute_result"
    }
   ],
   "source": [
    "nyc_crime_raw = nyc_crime_raw[nyc_crime_raw['property_crime'] > 25]\n",
    "nyc_crime_raw['property_crime'].quantile(0.95)\n",
    "nyc_crime_raw = nyc_crime_raw[nyc_crime_raw['property_crime'] < 2009]\n",
    "nyc_crime_raw = nyc_crime_raw[nyc_crime_raw['population'] > 2628]\n",
    "nyc_crime_raw['population'].quantile(0.95)\n"
   ]
  },
  {
   "cell_type": "code",
   "execution_count": 25,
   "metadata": {},
   "outputs": [],
   "source": [
    "nyc_crime_raw = nyc_crime_raw[nyc_crime_raw['population'] < 66486]\n"
   ]
  },
  {
   "cell_type": "code",
   "execution_count": 26,
   "metadata": {},
   "outputs": [
    {
     "data": {
      "text/plain": [
       "12.0"
      ]
     },
     "execution_count": 26,
     "metadata": {},
     "output_type": "execute_result"
    }
   ],
   "source": [
    "#Robbery is different. The 25th percentile is 0. Let's instead look at a lower quantile\n",
    "nyc_crime_raw['robbery'].quantile(0.85)\n"
   ]
  },
  {
   "cell_type": "code",
   "execution_count": 28,
   "metadata": {},
   "outputs": [
    {
     "data": {
      "text/plain": [
       "61.19999999999999"
      ]
     },
     "execution_count": 28,
     "metadata": {},
     "output_type": "execute_result"
    }
   ],
   "source": [
    "nyc_crime_raw = nyc_crime_raw[nyc_crime_raw['robbery'] < 7]\n",
    "nyc_crime_raw = nyc_crime_raw[nyc_crime_raw['burglary'] > 4]\n",
    "nyc_crime_raw['burglary'].quantile(0.95)\n"
   ]
  },
  {
   "cell_type": "code",
   "execution_count": 30,
   "metadata": {},
   "outputs": [
    {
     "data": {
      "text/plain": [
       "349.25"
      ]
     },
     "execution_count": 30,
     "metadata": {},
     "output_type": "execute_result"
    }
   ],
   "source": [
    "nyc_crime_raw = nyc_crime_raw[nyc_crime_raw['burglary'] < 61]\n",
    "nyc_crime_raw = nyc_crime_raw[nyc_crime_raw['larceny'] > 20]\n",
    "nyc_crime_raw['larceny'].quantile(0.95)\n"
   ]
  },
  {
   "cell_type": "code",
   "execution_count": 31,
   "metadata": {},
   "outputs": [],
   "source": [
    "nyc_crime_raw = nyc_crime_raw[nyc_crime_raw['larceny'] < 349]\n",
    "\n",
    "nyc_crime_raw['PopulationSquared'] = nyc_crime_raw['population']**2\n"
   ]
  },
  {
   "cell_type": "code",
   "execution_count": 32,
   "metadata": {},
   "outputs": [
    {
     "name": "stdout",
     "output_type": "stream",
     "text": [
      "\n",
      "Coefficients: \n",
      " [ 3.71191288e-03 -6.14920267e-08  4.31643508e+00  7.53440627e+00]\n",
      "\n",
      "Intercept: \n",
      " 2.5397914914702966\n",
      "\n",
      "R-squared:\n",
      "0.6490968785254018\n"
     ]
    },
    {
     "name": "stderr",
     "output_type": "stream",
     "text": [
      "/usr/local/lib/python3.6/site-packages/sklearn/linear_model/base.py:509: RuntimeWarning: internal gelsd driver lwork query error, required iwork dimension not returned. This is likely the result of LAPACK bug 0038, fixed in LAPACK 3.2.2 (released July 21, 2010). Falling back to 'gelss' driver.\n",
      "  linalg.lstsq(X, y)\n"
     ]
    }
   ],
   "source": [
    "# Instantiate and fit our model.\n",
    "regression = linear_model.LinearRegression()\n",
    "Y = nyc_crime_raw['property_crime']\n",
    "X = nyc_crime_raw[['population', 'PopulationSquared', 'burglary', 'robbery']]\n",
    "regression.fit(X, Y)\n",
    "\n",
    "# Inspect the results.\n",
    "print('\\nCoefficients: \\n', regression.coef_)\n",
    "print('\\nIntercept: \\n#Perform Cross-Validation\n",
    "\n",
    "from sklearn.model_selection import cross_val_score\n",
    "cross_val_score(regression, X, Y, cv=10)', regression.intercept_)\n",
    "print('\\nR-squared:')\n",
    "print(regression.score(X, Y))\n"
   ]
  },
  {
   "cell_type": "markdown",
   "metadata": {},
   "source": [
    "### Validate the model  \n"
   ]
  },
  {
   "cell_type": "code",
   "execution_count": 33,
   "metadata": {},
   "outputs": [
    {
     "data": {
      "text/plain": [
       "array([0.81977676, 0.75301842, 0.13816034, 0.26001248, 0.68295977,\n",
       "       0.82813815, 0.81833987, 0.34091492, 0.32259765, 0.65306851])"
      ]
     },
     "execution_count": 33,
     "metadata": {},
     "output_type": "execute_result"
    }
   ],
   "source": [
    "#Perform Cross-Validation\n",
    "\n",
    "from sklearn.model_selection import cross_val_score\n",
    "cross_val_score(regression, X, Y, cv=10)"
   ]
  },
  {
   "cell_type": "code",
   "execution_count": 34,
   "metadata": {},
   "outputs": [
    {
     "data": {
      "text/plain": [
       "Intercept           0.842\n",
       "population          0.086\n",
       "PopulationSquared   0.355\n",
       "burglary            0.000\n",
       "robbery             0.012\n",
       "dtype: float64"
      ]
     },
     "execution_count": 34,
     "metadata": {},
     "output_type": "execute_result"
    }
   ],
   "source": [
    "# Use a ~ to represent an '=' from the functional form\n",
    "linear_formula = 'property_crime ~ population+PopulationSquared+burglary+robbery'\n",
    "\n",
    "# Fit the model to our data using the formula.\n",
    "lm = smf.ols(formula=linear_formula, data=nyc_crime_raw).fit()\n",
    "lm.params\n",
    "lm.pvalues"
   ]
  },
  {
   "cell_type": "code",
   "execution_count": 35,
   "metadata": {},
   "outputs": [
    {
     "data": {
      "text/plain": [
       "0.6490968785254017"
      ]
     },
     "execution_count": 35,
     "metadata": {},
     "output_type": "execute_result"
    }
   ],
   "source": [
    "lm.rsquared"
   ]
  },
  {
   "cell_type": "code",
   "execution_count": 36,
   "metadata": {},
   "outputs": [
    {
     "data": {
      "text/html": [
       "<div>\n",
       "<style scoped>\n",
       "    .dataframe tbody tr th:only-of-type {\n",
       "        vertical-align: middle;\n",
       "    }\n",
       "\n",
       "    .dataframe tbody tr th {\n",
       "        vertical-align: top;\n",
       "    }\n",
       "\n",
       "    .dataframe thead th {\n",
       "        text-align: right;\n",
       "    }\n",
       "</style>\n",
       "<table border=\"1\" class=\"dataframe\">\n",
       "  <thead>\n",
       "    <tr style=\"text-align: right;\">\n",
       "      <th></th>\n",
       "      <th>0</th>\n",
       "      <th>1</th>\n",
       "    </tr>\n",
       "  </thead>\n",
       "  <tbody>\n",
       "    <tr>\n",
       "      <th>Intercept</th>\n",
       "      <td>-22.611</td>\n",
       "      <td>27.690</td>\n",
       "    </tr>\n",
       "    <tr>\n",
       "      <th>population</th>\n",
       "      <td>-0.001</td>\n",
       "      <td>0.008</td>\n",
       "    </tr>\n",
       "    <tr>\n",
       "      <th>PopulationSquared</th>\n",
       "      <td>-0.000</td>\n",
       "      <td>0.000</td>\n",
       "    </tr>\n",
       "    <tr>\n",
       "      <th>burglary</th>\n",
       "      <td>3.551</td>\n",
       "      <td>5.082</td>\n",
       "    </tr>\n",
       "    <tr>\n",
       "      <th>robbery</th>\n",
       "      <td>1.678</td>\n",
       "      <td>13.390</td>\n",
       "    </tr>\n",
       "  </tbody>\n",
       "</table>\n",
       "</div>"
      ],
      "text/plain": [
       "                        0      1\n",
       "Intercept         -22.611 27.690\n",
       "population         -0.001  0.008\n",
       "PopulationSquared  -0.000  0.000\n",
       "burglary            3.551  5.082\n",
       "robbery             1.678 13.390"
      ]
     },
     "execution_count": 36,
     "metadata": {},
     "output_type": "execute_result"
    }
   ],
   "source": [
    "lm.conf_int()\n"
   ]
  },
  {
   "cell_type": "markdown",
   "metadata": {},
   "source": [
    "### Create revised model\n",
    "### Removed Population and Population Squared, Added LarcenyTheft"
   ]
  },
  {
   "cell_type": "code",
   "execution_count": 38,
   "metadata": {},
   "outputs": [
    {
     "name": "stdout",
     "output_type": "stream",
     "text": [
      "\n",
      "Coefficients: \n",
      " [1.01978963 0.35822054 1.01386312]\n",
      "\n",
      "Intercept: \n",
      " 0.7318621733487589\n",
      "\n",
      "R-squared:\n",
      "0.9991601607971416\n"
     ]
    }
   ],
   "source": [
    "# Instantiate and fit our model.\n",
    "regression = linear_model.LinearRegression()\n",
    "Y = nyc_crime_raw['property_crime']\n",
    "X = nyc_crime_raw[['burglary', 'robbery', 'larceny']]\n",
    "regression.fit(X, Y)\n",
    "\n",
    "# Inspect the results.\n",
    "print('\\nCoefficients: \\n', regression.coef_)\n",
    "print('\\nIntercept: \\n', regression.intercept_)\n",
    "print('\\nR-squared:')\n",
    "print(regression.score(X, Y))"
   ]
  },
  {
   "cell_type": "code",
   "execution_count": 39,
   "metadata": {},
   "outputs": [],
   "source": [
    "# Use a ~ to represent an '=' from the functional form\n",
    "linear_formula = 'property_crime ~ burglary+robbery+larceny'\n",
    "\n",
    "# Fit the model to our data using the formula.\n",
    "lm = smf.ols(formula=linear_formula, data=nyc_crime_raw).fit()"
   ]
  },
  {
   "cell_type": "code",
   "execution_count": 40,
   "metadata": {},
   "outputs": [
    {
     "data": {
      "text/plain": [
       "Intercept   0.070\n",
       "burglary    0.000\n",
       "robbery     0.015\n",
       "larceny     0.000\n",
       "dtype: float64"
      ]
     },
     "execution_count": 40,
     "metadata": {},
     "output_type": "execute_result"
    }
   ],
   "source": [
    "lm.pvalues\n"
   ]
  },
  {
   "cell_type": "code",
   "execution_count": 42,
   "metadata": {},
   "outputs": [
    {
     "data": {
      "text/plain": [
       "array([0.99907655, 0.99951516, 0.99905488, 0.99951741, 0.99910037,\n",
       "       0.99954456, 0.99848302, 0.99490303, 0.9994934 , 0.99917967])"
      ]
     },
     "execution_count": 42,
     "metadata": {},
     "output_type": "execute_result"
    }
   ],
   "source": [
    "#Perform Cross-Validation\n",
    "\n",
    "from sklearn.model_selection import cross_val_score\n",
    "cross_val_score(regression, X, Y, cv=10)\n"
   ]
  },
  {
   "cell_type": "code",
   "execution_count": null,
   "metadata": {},
   "outputs": [],
   "source": []
  }
 ],
 "metadata": {
  "kernelspec": {
   "display_name": "Python 3",
   "language": "python",
   "name": "python3"
  },
  "language_info": {
   "codemirror_mode": {
    "name": "ipython",
    "version": 3
   },
   "file_extension": ".py",
   "mimetype": "text/x-python",
   "name": "python",
   "nbconvert_exporter": "python",
   "pygments_lexer": "ipython3",
   "version": "3.6.5"
  }
 },
 "nbformat": 4,
 "nbformat_minor": 2
}
