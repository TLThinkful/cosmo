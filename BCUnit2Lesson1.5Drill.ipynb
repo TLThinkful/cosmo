{
 "cells": [
  {
   "cell_type": "markdown",
   "metadata": {},
   "source": [
    "# Unit 2\n",
    "# Lesson 1.5\n",
    "## Feature Engineering - TLADS Drill\n",
    "\n",
    "### Categorize each of the variables in the ESS dataset as categorical or continuous and if continuous as ordinal, interval, or ratio variables. \n",
    "\n",
    "### cntry\n",
    "categorical\n",
    "ordinal\n",
    "\n",
    "### idno\n",
    "continuous\n",
    "ordinal\n",
    "\n",
    "### year\n",
    "continuous\n",
    "interval\n",
    "\n",
    "### tvtot\n",
    "continuous\n",
    "ratio\n",
    "\n",
    "### ppltrst\n",
    "categorical\n",
    "ratio\n",
    "\n",
    "### pplfair\n",
    "categorical\n",
    "ratio\n",
    "\n",
    "### pplhlp\n",
    "categorical\n",
    "ratio\n",
    "\n",
    "### happy\n",
    "categorical\n",
    "ratio\n",
    "\n",
    "### sclmeet\n",
    "categorical\n",
    "ratio\n",
    "\n",
    "### sclact\n",
    "categorical\n",
    "ratio\n",
    "\n",
    "### gndr\n",
    "categorical\n",
    "ordinal\n",
    "\n",
    "### agea\n",
    "continuous\n",
    "ratio\n",
    "\n",
    "### partner\n",
    "categorical\n",
    "ordinal"
   ]
  },
  {
   "cell_type": "code",
   "execution_count": null,
   "metadata": {},
   "outputs": [],
   "source": []
  }
 ],
 "metadata": {
  "kernelspec": {
   "display_name": "Python 3",
   "language": "python",
   "name": "python3"
  },
  "language_info": {
   "codemirror_mode": {
    "name": "ipython",
    "version": 3
   },
   "file_extension": ".py",
   "mimetype": "text/x-python",
   "name": "python",
   "nbconvert_exporter": "python",
   "pygments_lexer": "ipython3",
   "version": "3.6.5"
  }
 },
 "nbformat": 4,
 "nbformat_minor": 2
}
